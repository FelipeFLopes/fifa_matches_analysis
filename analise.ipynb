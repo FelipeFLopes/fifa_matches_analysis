{
 "cells": [
  {
   "cell_type": "markdown",
   "metadata": {},
   "source": [
    "# Objetivos do trabalho\n",
    "\n",
    "* Qual time tem os melhores jogadores de defesa, meio-campo e ataque?\n",
    "* Existe realmente uma vantagem do time da casa?\n",
    "* As equipes com jogadores mais ofensivos marcam mais gols? E times com goleiros mais fortes recebem menos gols?\n",
    "* Qual time tem a maior sequência de vitórias?\n",
    "* O melhor time sempre vence? Você pode explicar por que um time mais fraco às vezes ganha?"
   ]
  },
  {
   "cell_type": "code",
   "execution_count": 1,
   "metadata": {},
   "outputs": [],
   "source": [
    "from itertools import groupby\n",
    "\n",
    "from category_encoders.target_encoder import TargetEncoder\n",
    "import matplotlib.pyplot as plt\n",
    "import numpy as np\n",
    "import pandas as pd\n",
    "from plotnine import ggplot, geom_bar, facet_wrap, aes, geom_point, coord_flip\n",
    "from plotnine.coords import coord_cartesian\n",
    "from scipy.stats import chi2_contingency\n",
    "from statsmodels.stats.weightstats import ztest as ztest\n",
    "from sklearn.ensemble import RandomForestClassifier \n",
    "from sklearn.linear_model import LogisticRegression\n",
    "from sklearn.metrics import confusion_matrix, ConfusionMatrixDisplay, PrecisionRecallDisplay, precision_recall_curve, classification_report\n",
    "from sklearn.model_selection import cross_val_score, train_test_split"
   ]
  },
  {
   "cell_type": "markdown",
   "metadata": {},
   "source": [
    "# EDA"
   ]
  },
  {
   "cell_type": "code",
   "execution_count": 2,
   "metadata": {},
   "outputs": [],
   "source": [
    "data = pd.read_csv(\"international_matches.csv\", parse_dates=[\"date\"])"
   ]
  },
  {
   "cell_type": "code",
   "execution_count": 3,
   "metadata": {},
   "outputs": [
    {
     "data": {
      "text/html": [
       "<div>\n",
       "<style scoped>\n",
       "    .dataframe tbody tr th:only-of-type {\n",
       "        vertical-align: middle;\n",
       "    }\n",
       "\n",
       "    .dataframe tbody tr th {\n",
       "        vertical-align: top;\n",
       "    }\n",
       "\n",
       "    .dataframe thead th {\n",
       "        text-align: right;\n",
       "    }\n",
       "</style>\n",
       "<table border=\"1\" class=\"dataframe\">\n",
       "  <thead>\n",
       "    <tr style=\"text-align: right;\">\n",
       "      <th></th>\n",
       "      <th>date</th>\n",
       "      <th>home_team</th>\n",
       "      <th>away_team</th>\n",
       "      <th>home_team_continent</th>\n",
       "      <th>away_team_continent</th>\n",
       "      <th>home_team_fifa_rank</th>\n",
       "      <th>away_team_fifa_rank</th>\n",
       "      <th>home_team_total_fifa_points</th>\n",
       "      <th>away_team_total_fifa_points</th>\n",
       "      <th>home_team_score</th>\n",
       "      <th>...</th>\n",
       "      <th>shoot_out</th>\n",
       "      <th>home_team_result</th>\n",
       "      <th>home_team_goalkeeper_score</th>\n",
       "      <th>away_team_goalkeeper_score</th>\n",
       "      <th>home_team_mean_defense_score</th>\n",
       "      <th>home_team_mean_offense_score</th>\n",
       "      <th>home_team_mean_midfield_score</th>\n",
       "      <th>away_team_mean_defense_score</th>\n",
       "      <th>away_team_mean_offense_score</th>\n",
       "      <th>away_team_mean_midfield_score</th>\n",
       "    </tr>\n",
       "  </thead>\n",
       "  <tbody>\n",
       "    <tr>\n",
       "      <th>0</th>\n",
       "      <td>1993-08-08</td>\n",
       "      <td>Bolivia</td>\n",
       "      <td>Uruguay</td>\n",
       "      <td>South America</td>\n",
       "      <td>South America</td>\n",
       "      <td>59</td>\n",
       "      <td>22</td>\n",
       "      <td>0</td>\n",
       "      <td>0</td>\n",
       "      <td>3</td>\n",
       "      <td>...</td>\n",
       "      <td>No</td>\n",
       "      <td>Win</td>\n",
       "      <td>NaN</td>\n",
       "      <td>NaN</td>\n",
       "      <td>NaN</td>\n",
       "      <td>NaN</td>\n",
       "      <td>NaN</td>\n",
       "      <td>NaN</td>\n",
       "      <td>NaN</td>\n",
       "      <td>NaN</td>\n",
       "    </tr>\n",
       "    <tr>\n",
       "      <th>1</th>\n",
       "      <td>1993-08-08</td>\n",
       "      <td>Brazil</td>\n",
       "      <td>Mexico</td>\n",
       "      <td>South America</td>\n",
       "      <td>North America</td>\n",
       "      <td>8</td>\n",
       "      <td>14</td>\n",
       "      <td>0</td>\n",
       "      <td>0</td>\n",
       "      <td>1</td>\n",
       "      <td>...</td>\n",
       "      <td>No</td>\n",
       "      <td>Draw</td>\n",
       "      <td>NaN</td>\n",
       "      <td>NaN</td>\n",
       "      <td>NaN</td>\n",
       "      <td>NaN</td>\n",
       "      <td>NaN</td>\n",
       "      <td>NaN</td>\n",
       "      <td>NaN</td>\n",
       "      <td>NaN</td>\n",
       "    </tr>\n",
       "    <tr>\n",
       "      <th>2</th>\n",
       "      <td>1993-08-08</td>\n",
       "      <td>Ecuador</td>\n",
       "      <td>Venezuela</td>\n",
       "      <td>South America</td>\n",
       "      <td>South America</td>\n",
       "      <td>35</td>\n",
       "      <td>94</td>\n",
       "      <td>0</td>\n",
       "      <td>0</td>\n",
       "      <td>5</td>\n",
       "      <td>...</td>\n",
       "      <td>No</td>\n",
       "      <td>Win</td>\n",
       "      <td>NaN</td>\n",
       "      <td>NaN</td>\n",
       "      <td>NaN</td>\n",
       "      <td>NaN</td>\n",
       "      <td>NaN</td>\n",
       "      <td>NaN</td>\n",
       "      <td>NaN</td>\n",
       "      <td>NaN</td>\n",
       "    </tr>\n",
       "    <tr>\n",
       "      <th>3</th>\n",
       "      <td>1993-08-08</td>\n",
       "      <td>Guinea</td>\n",
       "      <td>Sierra Leone</td>\n",
       "      <td>Africa</td>\n",
       "      <td>Africa</td>\n",
       "      <td>65</td>\n",
       "      <td>86</td>\n",
       "      <td>0</td>\n",
       "      <td>0</td>\n",
       "      <td>1</td>\n",
       "      <td>...</td>\n",
       "      <td>No</td>\n",
       "      <td>Win</td>\n",
       "      <td>NaN</td>\n",
       "      <td>NaN</td>\n",
       "      <td>NaN</td>\n",
       "      <td>NaN</td>\n",
       "      <td>NaN</td>\n",
       "      <td>NaN</td>\n",
       "      <td>NaN</td>\n",
       "      <td>NaN</td>\n",
       "    </tr>\n",
       "    <tr>\n",
       "      <th>4</th>\n",
       "      <td>1993-08-08</td>\n",
       "      <td>Paraguay</td>\n",
       "      <td>Argentina</td>\n",
       "      <td>South America</td>\n",
       "      <td>South America</td>\n",
       "      <td>67</td>\n",
       "      <td>5</td>\n",
       "      <td>0</td>\n",
       "      <td>0</td>\n",
       "      <td>1</td>\n",
       "      <td>...</td>\n",
       "      <td>No</td>\n",
       "      <td>Lose</td>\n",
       "      <td>NaN</td>\n",
       "      <td>NaN</td>\n",
       "      <td>NaN</td>\n",
       "      <td>NaN</td>\n",
       "      <td>NaN</td>\n",
       "      <td>NaN</td>\n",
       "      <td>NaN</td>\n",
       "      <td>NaN</td>\n",
       "    </tr>\n",
       "  </tbody>\n",
       "</table>\n",
       "<p>5 rows × 25 columns</p>\n",
       "</div>"
      ],
      "text/plain": [
       "        date home_team     away_team home_team_continent away_team_continent  \\\n",
       "0 1993-08-08   Bolivia       Uruguay       South America       South America   \n",
       "1 1993-08-08    Brazil        Mexico       South America       North America   \n",
       "2 1993-08-08   Ecuador     Venezuela       South America       South America   \n",
       "3 1993-08-08    Guinea  Sierra Leone              Africa              Africa   \n",
       "4 1993-08-08  Paraguay     Argentina       South America       South America   \n",
       "\n",
       "   home_team_fifa_rank  away_team_fifa_rank  home_team_total_fifa_points  \\\n",
       "0                   59                   22                            0   \n",
       "1                    8                   14                            0   \n",
       "2                   35                   94                            0   \n",
       "3                   65                   86                            0   \n",
       "4                   67                    5                            0   \n",
       "\n",
       "   away_team_total_fifa_points  home_team_score  ...  shoot_out  \\\n",
       "0                            0                3  ...         No   \n",
       "1                            0                1  ...         No   \n",
       "2                            0                5  ...         No   \n",
       "3                            0                1  ...         No   \n",
       "4                            0                1  ...         No   \n",
       "\n",
       "  home_team_result home_team_goalkeeper_score away_team_goalkeeper_score  \\\n",
       "0              Win                        NaN                        NaN   \n",
       "1             Draw                        NaN                        NaN   \n",
       "2              Win                        NaN                        NaN   \n",
       "3              Win                        NaN                        NaN   \n",
       "4             Lose                        NaN                        NaN   \n",
       "\n",
       "   home_team_mean_defense_score home_team_mean_offense_score  \\\n",
       "0                           NaN                          NaN   \n",
       "1                           NaN                          NaN   \n",
       "2                           NaN                          NaN   \n",
       "3                           NaN                          NaN   \n",
       "4                           NaN                          NaN   \n",
       "\n",
       "  home_team_mean_midfield_score  away_team_mean_defense_score  \\\n",
       "0                           NaN                           NaN   \n",
       "1                           NaN                           NaN   \n",
       "2                           NaN                           NaN   \n",
       "3                           NaN                           NaN   \n",
       "4                           NaN                           NaN   \n",
       "\n",
       "   away_team_mean_offense_score  away_team_mean_midfield_score  \n",
       "0                           NaN                            NaN  \n",
       "1                           NaN                            NaN  \n",
       "2                           NaN                            NaN  \n",
       "3                           NaN                            NaN  \n",
       "4                           NaN                            NaN  \n",
       "\n",
       "[5 rows x 25 columns]"
      ]
     },
     "execution_count": 3,
     "metadata": {},
     "output_type": "execute_result"
    }
   ],
   "source": [
    "data.head()"
   ]
  },
  {
   "cell_type": "code",
   "execution_count": 4,
   "metadata": {},
   "outputs": [
    {
     "data": {
      "text/plain": [
       "date                                 0\n",
       "home_team                            0\n",
       "away_team                            0\n",
       "home_team_continent                  0\n",
       "away_team_continent                  0\n",
       "home_team_fifa_rank                  0\n",
       "away_team_fifa_rank                  0\n",
       "home_team_total_fifa_points          0\n",
       "away_team_total_fifa_points          0\n",
       "home_team_score                      0\n",
       "away_team_score                      0\n",
       "tournament                           0\n",
       "city                                 0\n",
       "country                              0\n",
       "neutral_location                     0\n",
       "shoot_out                            0\n",
       "home_team_result                     0\n",
       "home_team_goalkeeper_score       15542\n",
       "away_team_goalkeeper_score       15826\n",
       "home_team_mean_defense_score     16134\n",
       "home_team_mean_offense_score     15411\n",
       "home_team_mean_midfield_score    15759\n",
       "away_team_mean_defense_score     16357\n",
       "away_team_mean_offense_score     15609\n",
       "away_team_mean_midfield_score    15942\n",
       "dtype: int64"
      ]
     },
     "execution_count": 4,
     "metadata": {},
     "output_type": "execute_result"
    }
   ],
   "source": [
    "data.isna().sum()"
   ]
  },
  {
   "cell_type": "markdown",
   "metadata": {},
   "source": [
    "# Identificar a partir de quando temos dados de pontuação das seções dos times"
   ]
  },
  {
   "cell_type": "code",
   "execution_count": 5,
   "metadata": {},
   "outputs": [],
   "source": [
    "nomes_pontuacoes = [\n",
    "    \"home_team_goalkeeper_score\",\n",
    "    \"away_team_goalkeeper_score\",\n",
    "    \"home_team_mean_defense_score\",\n",
    "    \"home_team_mean_offense_score\",\n",
    "    \"home_team_mean_midfield_score\",\n",
    "    \"away_team_mean_defense_score\",\n",
    "    \"away_team_mean_offense_score\",\n",
    "    \"away_team_mean_midfield_score\",\n",
    "]\n",
    "\n",
    "columns_has_score = ~data[nomes_pontuacoes].isna()\n",
    "\n",
    "any_score = columns_has_score.any(axis=1)\n"
   ]
  },
  {
   "cell_type": "code",
   "execution_count": 6,
   "metadata": {},
   "outputs": [],
   "source": [
    "elemento_mais_antigo_contem_pontuacao = data[any_score].index.min()\n",
    "elemento_mais_recente_contem_pontuacao = data[any_score].index.max()"
   ]
  },
  {
   "cell_type": "markdown",
   "metadata": {},
   "source": [
    "## Partida mais antiga em que foi feita pontuação das seções dos times"
   ]
  },
  {
   "cell_type": "code",
   "execution_count": 7,
   "metadata": {},
   "outputs": [
    {
     "data": {
      "text/html": [
       "<div>\n",
       "<style scoped>\n",
       "    .dataframe tbody tr th:only-of-type {\n",
       "        vertical-align: middle;\n",
       "    }\n",
       "\n",
       "    .dataframe tbody tr th {\n",
       "        vertical-align: top;\n",
       "    }\n",
       "\n",
       "    .dataframe thead th {\n",
       "        text-align: right;\n",
       "    }\n",
       "</style>\n",
       "<table border=\"1\" class=\"dataframe\">\n",
       "  <thead>\n",
       "    <tr style=\"text-align: right;\">\n",
       "      <th></th>\n",
       "      <th>date</th>\n",
       "      <th>home_team</th>\n",
       "      <th>away_team</th>\n",
       "      <th>home_team_continent</th>\n",
       "      <th>away_team_continent</th>\n",
       "      <th>home_team_fifa_rank</th>\n",
       "      <th>away_team_fifa_rank</th>\n",
       "      <th>home_team_total_fifa_points</th>\n",
       "      <th>away_team_total_fifa_points</th>\n",
       "      <th>home_team_score</th>\n",
       "      <th>...</th>\n",
       "      <th>shoot_out</th>\n",
       "      <th>home_team_result</th>\n",
       "      <th>home_team_goalkeeper_score</th>\n",
       "      <th>away_team_goalkeeper_score</th>\n",
       "      <th>home_team_mean_defense_score</th>\n",
       "      <th>home_team_mean_offense_score</th>\n",
       "      <th>home_team_mean_midfield_score</th>\n",
       "      <th>away_team_mean_defense_score</th>\n",
       "      <th>away_team_mean_offense_score</th>\n",
       "      <th>away_team_mean_midfield_score</th>\n",
       "    </tr>\n",
       "  </thead>\n",
       "  <tbody>\n",
       "    <tr>\n",
       "      <th>8262</th>\n",
       "      <td>2004-09-03</td>\n",
       "      <td>Maldives</td>\n",
       "      <td>Oman</td>\n",
       "      <td>Africa</td>\n",
       "      <td>Asia</td>\n",
       "      <td>142</td>\n",
       "      <td>50</td>\n",
       "      <td>0</td>\n",
       "      <td>0</td>\n",
       "      <td>1</td>\n",
       "      <td>...</td>\n",
       "      <td>No</td>\n",
       "      <td>Lose</td>\n",
       "      <td>NaN</td>\n",
       "      <td>70.0</td>\n",
       "      <td>NaN</td>\n",
       "      <td>NaN</td>\n",
       "      <td>NaN</td>\n",
       "      <td>NaN</td>\n",
       "      <td>NaN</td>\n",
       "      <td>NaN</td>\n",
       "    </tr>\n",
       "  </tbody>\n",
       "</table>\n",
       "<p>1 rows × 25 columns</p>\n",
       "</div>"
      ],
      "text/plain": [
       "           date home_team away_team home_team_continent away_team_continent  \\\n",
       "8262 2004-09-03  Maldives      Oman              Africa                Asia   \n",
       "\n",
       "      home_team_fifa_rank  away_team_fifa_rank  home_team_total_fifa_points  \\\n",
       "8262                  142                   50                            0   \n",
       "\n",
       "      away_team_total_fifa_points  home_team_score  ...  shoot_out  \\\n",
       "8262                            0                1  ...         No   \n",
       "\n",
       "     home_team_result home_team_goalkeeper_score away_team_goalkeeper_score  \\\n",
       "8262             Lose                        NaN                       70.0   \n",
       "\n",
       "      home_team_mean_defense_score home_team_mean_offense_score  \\\n",
       "8262                           NaN                          NaN   \n",
       "\n",
       "     home_team_mean_midfield_score  away_team_mean_defense_score  \\\n",
       "8262                           NaN                           NaN   \n",
       "\n",
       "      away_team_mean_offense_score  away_team_mean_midfield_score  \n",
       "8262                           NaN                            NaN  \n",
       "\n",
       "[1 rows x 25 columns]"
      ]
     },
     "execution_count": 7,
     "metadata": {},
     "output_type": "execute_result"
    }
   ],
   "source": [
    "data.iloc[[elemento_mais_antigo_contem_pontuacao]]"
   ]
  },
  {
   "cell_type": "markdown",
   "metadata": {},
   "source": [
    "## Partida mais recente em que foi feita pontuação das seções dos times"
   ]
  },
  {
   "cell_type": "code",
   "execution_count": 8,
   "metadata": {},
   "outputs": [
    {
     "data": {
      "text/html": [
       "<div>\n",
       "<style scoped>\n",
       "    .dataframe tbody tr th:only-of-type {\n",
       "        vertical-align: middle;\n",
       "    }\n",
       "\n",
       "    .dataframe tbody tr th {\n",
       "        vertical-align: top;\n",
       "    }\n",
       "\n",
       "    .dataframe thead th {\n",
       "        text-align: right;\n",
       "    }\n",
       "</style>\n",
       "<table border=\"1\" class=\"dataframe\">\n",
       "  <thead>\n",
       "    <tr style=\"text-align: right;\">\n",
       "      <th></th>\n",
       "      <th>date</th>\n",
       "      <th>home_team</th>\n",
       "      <th>away_team</th>\n",
       "      <th>home_team_continent</th>\n",
       "      <th>away_team_continent</th>\n",
       "      <th>home_team_fifa_rank</th>\n",
       "      <th>away_team_fifa_rank</th>\n",
       "      <th>home_team_total_fifa_points</th>\n",
       "      <th>away_team_total_fifa_points</th>\n",
       "      <th>home_team_score</th>\n",
       "      <th>...</th>\n",
       "      <th>shoot_out</th>\n",
       "      <th>home_team_result</th>\n",
       "      <th>home_team_goalkeeper_score</th>\n",
       "      <th>away_team_goalkeeper_score</th>\n",
       "      <th>home_team_mean_defense_score</th>\n",
       "      <th>home_team_mean_offense_score</th>\n",
       "      <th>home_team_mean_midfield_score</th>\n",
       "      <th>away_team_mean_defense_score</th>\n",
       "      <th>away_team_mean_offense_score</th>\n",
       "      <th>away_team_mean_midfield_score</th>\n",
       "    </tr>\n",
       "  </thead>\n",
       "  <tbody>\n",
       "    <tr>\n",
       "      <th>23920</th>\n",
       "      <td>2022-06-14</td>\n",
       "      <td>Korea Republic</td>\n",
       "      <td>Egypt</td>\n",
       "      <td>Asia</td>\n",
       "      <td>Africa</td>\n",
       "      <td>29</td>\n",
       "      <td>32</td>\n",
       "      <td>1519</td>\n",
       "      <td>1500</td>\n",
       "      <td>4</td>\n",
       "      <td>...</td>\n",
       "      <td>No</td>\n",
       "      <td>Win</td>\n",
       "      <td>75.0</td>\n",
       "      <td>NaN</td>\n",
       "      <td>73.0</td>\n",
       "      <td>80.0</td>\n",
       "      <td>73.8</td>\n",
       "      <td>NaN</td>\n",
       "      <td>79.3</td>\n",
       "      <td>70.8</td>\n",
       "    </tr>\n",
       "  </tbody>\n",
       "</table>\n",
       "<p>1 rows × 25 columns</p>\n",
       "</div>"
      ],
      "text/plain": [
       "            date       home_team away_team home_team_continent  \\\n",
       "23920 2022-06-14  Korea Republic     Egypt                Asia   \n",
       "\n",
       "      away_team_continent  home_team_fifa_rank  away_team_fifa_rank  \\\n",
       "23920              Africa                   29                   32   \n",
       "\n",
       "       home_team_total_fifa_points  away_team_total_fifa_points  \\\n",
       "23920                         1519                         1500   \n",
       "\n",
       "       home_team_score  ...  shoot_out home_team_result  \\\n",
       "23920                4  ...         No              Win   \n",
       "\n",
       "      home_team_goalkeeper_score away_team_goalkeeper_score  \\\n",
       "23920                       75.0                        NaN   \n",
       "\n",
       "       home_team_mean_defense_score home_team_mean_offense_score  \\\n",
       "23920                          73.0                         80.0   \n",
       "\n",
       "      home_team_mean_midfield_score  away_team_mean_defense_score  \\\n",
       "23920                          73.8                           NaN   \n",
       "\n",
       "       away_team_mean_offense_score  away_team_mean_midfield_score  \n",
       "23920                          79.3                           70.8  \n",
       "\n",
       "[1 rows x 25 columns]"
      ]
     },
     "execution_count": 8,
     "metadata": {},
     "output_type": "execute_result"
    }
   ],
   "source": [
    "data.iloc[[elemento_mais_recente_contem_pontuacao]]"
   ]
  },
  {
   "cell_type": "markdown",
   "metadata": {},
   "source": [
    "# Qual time tem os melhores jogadores de defesa, meio-campo e ataque?"
   ]
  },
  {
   "cell_type": "code",
   "execution_count": 9,
   "metadata": {},
   "outputs": [],
   "source": [
    "colunas_time_casa = [\n",
    "    \"date\",\n",
    "    \"home_team\",\n",
    "    \"home_team_fifa_rank\",\n",
    "    \"home_team_total_fifa_points\",\n",
    "    \"home_team_score\",\n",
    "    \"home_team_goalkeeper_score\",\n",
    "    \"home_team_mean_defense_score\",\n",
    "    \"home_team_mean_offense_score\",\n",
    "    \"home_team_mean_midfield_score\",\n",
    "]\n",
    "\n",
    "colunas_time_visitante = [\n",
    "    \"date\",\n",
    "    \"away_team\",\n",
    "    \"away_team_fifa_rank\",\n",
    "    \"away_team_total_fifa_points\",\n",
    "    \"away_team_score\",\n",
    "    \"away_team_goalkeeper_score\",\n",
    "    \"away_team_mean_defense_score\",\n",
    "    \"away_team_mean_offense_score\",\n",
    "    \"away_team_mean_midfield_score\",\n",
    "]\n",
    "\n",
    "partidas_com_pontuacao = data.iloc[\n",
    "    elemento_mais_antigo_contem_pontuacao:elemento_mais_recente_contem_pontuacao\n",
    "]\n",
    "\n",
    "dados_time_casa = partidas_com_pontuacao[colunas_time_casa]\n",
    "dados_time_visitante = partidas_com_pontuacao[colunas_time_visitante]\n",
    "\n",
    "dados_time_casa_renomeado = dados_time_casa.rename(\n",
    "    mapper=lambda x: x.replace(\"home_team_\", \"\"), axis=1\n",
    ")\n",
    "dados_time_casa_renomeado = dados_time_casa_renomeado.rename(\n",
    "    mapper=lambda x: x.replace(\"home_team\", \"team\"), axis=1\n",
    ")\n",
    "\n",
    "dados_time_visitante_renomeado = dados_time_visitante.rename(\n",
    "    mapper=lambda x: x.replace(\"away_team_\", \"\"), axis=1\n",
    ")\n",
    "dados_time_visitante_renomeado = dados_time_visitante_renomeado.rename(\n",
    "    mapper=lambda x: x.replace(\"away_team\", \"team\"), axis=1\n",
    ")\n",
    "\n",
    "\n",
    "pontuacao_paises = pd.concat(\n",
    "    [dados_time_casa_renomeado, dados_time_visitante_renomeado], axis=0\n",
    ")\n"
   ]
  },
  {
   "cell_type": "code",
   "execution_count": 10,
   "metadata": {},
   "outputs": [],
   "source": [
    "pontuacao_paises[\"ano\"] = pontuacao_paises[\"date\"].dt.year"
   ]
  },
  {
   "cell_type": "markdown",
   "metadata": {},
   "source": [
    "## Pontuação dos times muda durante o ano?"
   ]
  },
  {
   "cell_type": "code",
   "execution_count": 11,
   "metadata": {},
   "outputs": [],
   "source": [
    "nomes_pontuacoes = [\n",
    "    \"mean_defense_score\",\n",
    "    \"mean_offense_score\",\n",
    "    \"mean_midfield_score\",\n",
    "    \"goalkeeper_score\",\n",
    "]\n",
    "\n",
    "var_pontuacao = pontuacao_paises.groupby([\"ano\", \"team\"])[\n",
    "    nomes_pontuacoes\n",
    "].var()\n"
   ]
  },
  {
   "cell_type": "code",
   "execution_count": 12,
   "metadata": {},
   "outputs": [
    {
     "name": "stdout",
     "output_type": "stream",
     "text": [
      "mean_defense_score     True\n",
      "mean_offense_score     True\n",
      "mean_midfield_score    True\n",
      "goalkeeper_score       True\n",
      "dtype: bool\n"
     ]
    }
   ],
   "source": [
    "pontuacoes_variam_no_ano = var_pontuacao.apply(lambda x: x>0)\n",
    "\n",
    "print(pontuacoes_variam_no_ano.any())"
   ]
  },
  {
   "cell_type": "code",
   "execution_count": 13,
   "metadata": {},
   "outputs": [
    {
     "data": {
      "text/html": [
       "<div>\n",
       "<style scoped>\n",
       "    .dataframe tbody tr th:only-of-type {\n",
       "        vertical-align: middle;\n",
       "    }\n",
       "\n",
       "    .dataframe tbody tr th {\n",
       "        vertical-align: top;\n",
       "    }\n",
       "\n",
       "    .dataframe thead th {\n",
       "        text-align: right;\n",
       "    }\n",
       "</style>\n",
       "<table border=\"1\" class=\"dataframe\">\n",
       "  <thead>\n",
       "    <tr style=\"text-align: right;\">\n",
       "      <th></th>\n",
       "      <th></th>\n",
       "      <th>mean_defense_score</th>\n",
       "      <th>mean_offense_score</th>\n",
       "      <th>mean_midfield_score</th>\n",
       "      <th>goalkeeper_score</th>\n",
       "    </tr>\n",
       "    <tr>\n",
       "      <th>ano</th>\n",
       "      <th>team</th>\n",
       "      <th></th>\n",
       "      <th></th>\n",
       "      <th></th>\n",
       "      <th></th>\n",
       "    </tr>\n",
       "  </thead>\n",
       "  <tbody>\n",
       "    <tr>\n",
       "      <th rowspan=\"5\" valign=\"top\">2005</th>\n",
       "      <th>Albania</th>\n",
       "      <td>NaN</td>\n",
       "      <td>4.314333</td>\n",
       "      <td>0.058333</td>\n",
       "      <td>NaN</td>\n",
       "    </tr>\n",
       "    <tr>\n",
       "      <th>Albania</th>\n",
       "      <td>NaN</td>\n",
       "      <td>4.314333</td>\n",
       "      <td>0.058333</td>\n",
       "      <td>NaN</td>\n",
       "    </tr>\n",
       "    <tr>\n",
       "      <th>Algeria</th>\n",
       "      <td>0.0000</td>\n",
       "      <td>0.402381</td>\n",
       "      <td>0.952381</td>\n",
       "      <td>0.0000</td>\n",
       "    </tr>\n",
       "    <tr>\n",
       "      <th>Algeria</th>\n",
       "      <td>0.0000</td>\n",
       "      <td>0.402381</td>\n",
       "      <td>0.952381</td>\n",
       "      <td>0.0000</td>\n",
       "    </tr>\n",
       "    <tr>\n",
       "      <th>Angola</th>\n",
       "      <td>0.0000</td>\n",
       "      <td>0.818182</td>\n",
       "      <td>NaN</td>\n",
       "      <td>0.0000</td>\n",
       "    </tr>\n",
       "    <tr>\n",
       "      <th>...</th>\n",
       "      <th>...</th>\n",
       "      <td>...</td>\n",
       "      <td>...</td>\n",
       "      <td>...</td>\n",
       "      <td>...</td>\n",
       "    </tr>\n",
       "    <tr>\n",
       "      <th rowspan=\"5\" valign=\"top\">2021</th>\n",
       "      <th>Wales</th>\n",
       "      <td>0.0105</td>\n",
       "      <td>2.362500</td>\n",
       "      <td>0.443625</td>\n",
       "      <td>0.2625</td>\n",
       "    </tr>\n",
       "    <tr>\n",
       "      <th>Wales</th>\n",
       "      <td>0.0105</td>\n",
       "      <td>2.362500</td>\n",
       "      <td>0.443625</td>\n",
       "      <td>0.2625</td>\n",
       "    </tr>\n",
       "    <tr>\n",
       "      <th>Wales</th>\n",
       "      <td>0.0105</td>\n",
       "      <td>2.362500</td>\n",
       "      <td>0.443625</td>\n",
       "      <td>0.2625</td>\n",
       "    </tr>\n",
       "    <tr>\n",
       "      <th>Zambia</th>\n",
       "      <td>NaN</td>\n",
       "      <td>0.504000</td>\n",
       "      <td>NaN</td>\n",
       "      <td>NaN</td>\n",
       "    </tr>\n",
       "    <tr>\n",
       "      <th>Zimbabwe</th>\n",
       "      <td>0.0000</td>\n",
       "      <td>5.770909</td>\n",
       "      <td>0.000000</td>\n",
       "      <td>NaN</td>\n",
       "    </tr>\n",
       "  </tbody>\n",
       "</table>\n",
       "<p>4347 rows × 4 columns</p>\n",
       "</div>"
      ],
      "text/plain": [
       "               mean_defense_score  mean_offense_score  mean_midfield_score  \\\n",
       "ano  team                                                                    \n",
       "2005 Albania                  NaN            4.314333             0.058333   \n",
       "     Albania                  NaN            4.314333             0.058333   \n",
       "     Algeria               0.0000            0.402381             0.952381   \n",
       "     Algeria               0.0000            0.402381             0.952381   \n",
       "     Angola                0.0000            0.818182                  NaN   \n",
       "...                           ...                 ...                  ...   \n",
       "2021 Wales                 0.0105            2.362500             0.443625   \n",
       "     Wales                 0.0105            2.362500             0.443625   \n",
       "     Wales                 0.0105            2.362500             0.443625   \n",
       "     Zambia                   NaN            0.504000                  NaN   \n",
       "     Zimbabwe              0.0000            5.770909             0.000000   \n",
       "\n",
       "               goalkeeper_score  \n",
       "ano  team                        \n",
       "2005 Albania                NaN  \n",
       "     Albania                NaN  \n",
       "     Algeria             0.0000  \n",
       "     Algeria             0.0000  \n",
       "     Angola              0.0000  \n",
       "...                         ...  \n",
       "2021 Wales               0.2625  \n",
       "     Wales               0.2625  \n",
       "     Wales               0.2625  \n",
       "     Zambia                 NaN  \n",
       "     Zimbabwe               NaN  \n",
       "\n",
       "[4347 rows x 4 columns]"
      ]
     },
     "execution_count": 13,
     "metadata": {},
     "output_type": "execute_result"
    }
   ],
   "source": [
    "var_pontuacao[pontuacoes_variam_no_ano.values]"
   ]
  },
  {
   "cell_type": "markdown",
   "metadata": {},
   "source": [
    "## Média das pontuações por sessão"
   ]
  },
  {
   "cell_type": "code",
   "execution_count": 14,
   "metadata": {},
   "outputs": [
    {
     "data": {
      "text/plain": [
       "ano   team      \n",
       "2004  Italy         91.800000\n",
       "2005  Italy         91.000000\n",
       "2004  England       90.500000\n",
       "2005  England       90.045455\n",
       "2006  Italy         89.450000\n",
       "                      ...    \n",
       "2022  Uzbekistan          NaN\n",
       "      Vanuatu             NaN\n",
       "      Vietnam             NaN\n",
       "      Yemen               NaN\n",
       "      Zambia              NaN\n",
       "Name: mean_defense_score, Length: 3550, dtype: float64"
      ]
     },
     "execution_count": 14,
     "metadata": {},
     "output_type": "execute_result"
    }
   ],
   "source": [
    "media_defesa_pais_ano = pontuacao_paises.groupby([\"ano\", \"team\"])[\n",
    "    \"mean_defense_score\"\n",
    "].mean()\n",
    "media_defesa_pais_ano.sort_values(ascending=False)\n"
   ]
  },
  {
   "cell_type": "code",
   "execution_count": 15,
   "metadata": {},
   "outputs": [
    {
     "data": {
      "text/plain": [
       "ano   team             \n",
       "2004  Netherlands          93.0\n",
       "      France               93.0\n",
       "2005  Brazil               92.4\n",
       "2004  Italy                92.3\n",
       "      Brazil               92.3\n",
       "                           ... \n",
       "2022  US Virgin Islands     NaN\n",
       "      Uzbekistan            NaN\n",
       "      Vanuatu               NaN\n",
       "      Vietnam               NaN\n",
       "      Yemen                 NaN\n",
       "Name: mean_offense_score, Length: 3550, dtype: float64"
      ]
     },
     "execution_count": 15,
     "metadata": {},
     "output_type": "execute_result"
    }
   ],
   "source": [
    "media_defesa_pais_ano = pontuacao_paises.groupby([\"ano\", \"team\"])[\n",
    "    \"mean_offense_score\"\n",
    "].mean()\n",
    "media_defesa_pais_ano.sort_values(ascending=False)\n"
   ]
  },
  {
   "cell_type": "code",
   "execution_count": 16,
   "metadata": {},
   "outputs": [
    {
     "data": {
      "text/plain": [
       "ano   team    \n",
       "2004  France      93.200000\n",
       "      England     91.200000\n",
       "2005  France      90.909091\n",
       "2006  Brazil      90.500000\n",
       "2005  Brazil      90.350000\n",
       "                    ...    \n",
       "2022  Vanuatu           NaN\n",
       "      Vietnam           NaN\n",
       "      Yemen             NaN\n",
       "      Zambia            NaN\n",
       "      Zimbabwe          NaN\n",
       "Name: mean_midfield_score, Length: 3550, dtype: float64"
      ]
     },
     "execution_count": 16,
     "metadata": {},
     "output_type": "execute_result"
    }
   ],
   "source": [
    "media_defesa_pais_ano = pontuacao_paises.groupby([\"ano\", \"team\"])[\n",
    "    \"mean_midfield_score\"\n",
    "].mean()\n",
    "media_defesa_pais_ano.sort_values(ascending=False)\n"
   ]
  },
  {
   "cell_type": "code",
   "execution_count": 17,
   "metadata": {},
   "outputs": [
    {
     "data": {
      "text/plain": [
       "ano   team      \n",
       "2004  Italy         97.000\n",
       "2005  Italy         96.000\n",
       "      Spain         94.500\n",
       "2006  Italy         94.375\n",
       "2004  Spain         94.000\n",
       "                     ...  \n",
       "2022  Uzbekistan       NaN\n",
       "      Vanuatu          NaN\n",
       "      Yemen            NaN\n",
       "      Zambia           NaN\n",
       "      Zimbabwe         NaN\n",
       "Name: goalkeeper_score, Length: 3550, dtype: float64"
      ]
     },
     "execution_count": 17,
     "metadata": {},
     "output_type": "execute_result"
    }
   ],
   "source": [
    "media_defesa_pais_ano = pontuacao_paises.groupby([\"ano\", \"team\"])[\n",
    "    \"goalkeeper_score\"\n",
    "].mean()\n",
    "media_defesa_pais_ano.sort_values(ascending=False)\n"
   ]
  },
  {
   "cell_type": "markdown",
   "metadata": {},
   "source": [
    "# Existe realmente uma vantagem do time da casa?"
   ]
  },
  {
   "cell_type": "code",
   "execution_count": 18,
   "metadata": {},
   "outputs": [],
   "source": [
    "resultado = data[\n",
    "    [\n",
    "        \"date\",\n",
    "        \"home_team\",\n",
    "        \"home_team_result\",\n",
    "        \"neutral_location\",\n",
    "        \"city\",\n",
    "        \"country\",\n",
    "    ]\n",
    "]\n"
   ]
  },
  {
   "cell_type": "code",
   "execution_count": 19,
   "metadata": {},
   "outputs": [
    {
     "name": "stderr",
     "output_type": "stream",
     "text": [
      "/tmp/ipykernel_5257/2506403630.py:1: SettingWithCopyWarning: \n",
      "A value is trying to be set on a copy of a slice from a DataFrame.\n",
      "Try using .loc[row_indexer,col_indexer] = value instead\n",
      "\n",
      "See the caveats in the documentation: https://pandas.pydata.org/pandas-docs/stable/user_guide/indexing.html#returning-a-view-versus-a-copy\n"
     ]
    }
   ],
   "source": [
    "resultado[\"time_casa_em_casa\"] = (\n",
    "    resultado[\"home_team\"].values == resultado[\"country\"].values\n",
    ")"
   ]
  },
  {
   "cell_type": "code",
   "execution_count": 20,
   "metadata": {},
   "outputs": [
    {
     "data": {
      "text/html": [
       "<div>\n",
       "<style scoped>\n",
       "    .dataframe tbody tr th:only-of-type {\n",
       "        vertical-align: middle;\n",
       "    }\n",
       "\n",
       "    .dataframe tbody tr th {\n",
       "        vertical-align: top;\n",
       "    }\n",
       "\n",
       "    .dataframe thead th {\n",
       "        text-align: right;\n",
       "    }\n",
       "</style>\n",
       "<table border=\"1\" class=\"dataframe\">\n",
       "  <thead>\n",
       "    <tr style=\"text-align: right;\">\n",
       "      <th></th>\n",
       "      <th>date</th>\n",
       "      <th>home_team</th>\n",
       "      <th>home_team_result</th>\n",
       "      <th>neutral_location</th>\n",
       "      <th>city</th>\n",
       "      <th>country</th>\n",
       "      <th>time_casa_em_casa</th>\n",
       "    </tr>\n",
       "  </thead>\n",
       "  <tbody>\n",
       "    <tr>\n",
       "      <th>0</th>\n",
       "      <td>1993-08-08</td>\n",
       "      <td>Bolivia</td>\n",
       "      <td>Win</td>\n",
       "      <td>False</td>\n",
       "      <td>La Paz</td>\n",
       "      <td>Bolivia</td>\n",
       "      <td>True</td>\n",
       "    </tr>\n",
       "    <tr>\n",
       "      <th>1</th>\n",
       "      <td>1993-08-08</td>\n",
       "      <td>Brazil</td>\n",
       "      <td>Draw</td>\n",
       "      <td>False</td>\n",
       "      <td>Maceió</td>\n",
       "      <td>Brazil</td>\n",
       "      <td>True</td>\n",
       "    </tr>\n",
       "    <tr>\n",
       "      <th>2</th>\n",
       "      <td>1993-08-08</td>\n",
       "      <td>Ecuador</td>\n",
       "      <td>Win</td>\n",
       "      <td>False</td>\n",
       "      <td>Quito</td>\n",
       "      <td>Ecuador</td>\n",
       "      <td>True</td>\n",
       "    </tr>\n",
       "    <tr>\n",
       "      <th>3</th>\n",
       "      <td>1993-08-08</td>\n",
       "      <td>Guinea</td>\n",
       "      <td>Win</td>\n",
       "      <td>False</td>\n",
       "      <td>Conakry</td>\n",
       "      <td>Guinea</td>\n",
       "      <td>True</td>\n",
       "    </tr>\n",
       "    <tr>\n",
       "      <th>4</th>\n",
       "      <td>1993-08-08</td>\n",
       "      <td>Paraguay</td>\n",
       "      <td>Lose</td>\n",
       "      <td>False</td>\n",
       "      <td>Asunción</td>\n",
       "      <td>Paraguay</td>\n",
       "      <td>True</td>\n",
       "    </tr>\n",
       "    <tr>\n",
       "      <th>...</th>\n",
       "      <td>...</td>\n",
       "      <td>...</td>\n",
       "      <td>...</td>\n",
       "      <td>...</td>\n",
       "      <td>...</td>\n",
       "      <td>...</td>\n",
       "      <td>...</td>\n",
       "    </tr>\n",
       "    <tr>\n",
       "      <th>23916</th>\n",
       "      <td>2022-06-14</td>\n",
       "      <td>Moldova</td>\n",
       "      <td>Win</td>\n",
       "      <td>False</td>\n",
       "      <td>Chișinău</td>\n",
       "      <td>Moldova</td>\n",
       "      <td>True</td>\n",
       "    </tr>\n",
       "    <tr>\n",
       "      <th>23917</th>\n",
       "      <td>2022-06-14</td>\n",
       "      <td>Liechtenstein</td>\n",
       "      <td>Lose</td>\n",
       "      <td>False</td>\n",
       "      <td>Vaduz</td>\n",
       "      <td>Liechtenstein</td>\n",
       "      <td>True</td>\n",
       "    </tr>\n",
       "    <tr>\n",
       "      <th>23918</th>\n",
       "      <td>2022-06-14</td>\n",
       "      <td>Chile</td>\n",
       "      <td>Lose</td>\n",
       "      <td>True</td>\n",
       "      <td>Suita</td>\n",
       "      <td>Japan</td>\n",
       "      <td>False</td>\n",
       "    </tr>\n",
       "    <tr>\n",
       "      <th>23919</th>\n",
       "      <td>2022-06-14</td>\n",
       "      <td>Japan</td>\n",
       "      <td>Lose</td>\n",
       "      <td>False</td>\n",
       "      <td>Suita</td>\n",
       "      <td>Japan</td>\n",
       "      <td>True</td>\n",
       "    </tr>\n",
       "    <tr>\n",
       "      <th>23920</th>\n",
       "      <td>2022-06-14</td>\n",
       "      <td>Korea Republic</td>\n",
       "      <td>Win</td>\n",
       "      <td>False</td>\n",
       "      <td>Seoul</td>\n",
       "      <td>Korea Republic</td>\n",
       "      <td>True</td>\n",
       "    </tr>\n",
       "  </tbody>\n",
       "</table>\n",
       "<p>23921 rows × 7 columns</p>\n",
       "</div>"
      ],
      "text/plain": [
       "            date       home_team home_team_result  neutral_location      city  \\\n",
       "0     1993-08-08         Bolivia              Win             False    La Paz   \n",
       "1     1993-08-08          Brazil             Draw             False    Maceió   \n",
       "2     1993-08-08         Ecuador              Win             False     Quito   \n",
       "3     1993-08-08          Guinea              Win             False   Conakry   \n",
       "4     1993-08-08        Paraguay             Lose             False  Asunción   \n",
       "...          ...             ...              ...               ...       ...   \n",
       "23916 2022-06-14         Moldova              Win             False  Chișinău   \n",
       "23917 2022-06-14   Liechtenstein             Lose             False     Vaduz   \n",
       "23918 2022-06-14           Chile             Lose              True     Suita   \n",
       "23919 2022-06-14           Japan             Lose             False     Suita   \n",
       "23920 2022-06-14  Korea Republic              Win             False     Seoul   \n",
       "\n",
       "              country  time_casa_em_casa  \n",
       "0             Bolivia               True  \n",
       "1              Brazil               True  \n",
       "2             Ecuador               True  \n",
       "3              Guinea               True  \n",
       "4            Paraguay               True  \n",
       "...               ...                ...  \n",
       "23916         Moldova               True  \n",
       "23917   Liechtenstein               True  \n",
       "23918           Japan              False  \n",
       "23919           Japan               True  \n",
       "23920  Korea Republic               True  \n",
       "\n",
       "[23921 rows x 7 columns]"
      ]
     },
     "execution_count": 20,
     "metadata": {},
     "output_type": "execute_result"
    }
   ],
   "source": [
    "resultado"
   ]
  },
  {
   "cell_type": "code",
   "execution_count": 21,
   "metadata": {},
   "outputs": [],
   "source": [
    "resultado_por_locacao = resultado.groupby([\"time_casa_em_casa\"])[\n",
    "    \"home_team_result\"\n",
    "].value_counts()\n"
   ]
  },
  {
   "cell_type": "code",
   "execution_count": 22,
   "metadata": {},
   "outputs": [
    {
     "data": {
      "image/png": "[encoded data removed]",
      "text/plain": [
       "<Figure size 640x480 with 2 Axes>"
      ]
     },
     "metadata": {},
     "output_type": "display_data"
    },
    {
     "data": {
      "text/plain": [
       "<ggplot: (8750223084042)>"
      ]
     },
     "execution_count": 22,
     "metadata": {},
     "output_type": "execute_result"
    }
   ],
   "source": [
    "(ggplot(resultado, aes(\"home_team_result\"))\n",
    "+ geom_bar()\n",
    "+ facet_wrap(\"time_casa_em_casa\")\n",
    ")"
   ]
  },
  {
   "cell_type": "code",
   "execution_count": 23,
   "metadata": {},
   "outputs": [],
   "source": [
    "resultado_por_locacao_renomeado = resultado_por_locacao.to_frame().rename(\n",
    "    columns={\"home_team_result\": \"results_count\"}\n",
    ")\n",
    "\n",
    "contagem_resultados = resultado_por_locacao_renomeado.reset_index()"
   ]
  },
  {
   "cell_type": "code",
   "execution_count": 24,
   "metadata": {},
   "outputs": [],
   "source": [
    "tabela_contigencia = contagem_resultados.pivot(\n",
    "    index=\"home_team_result\",\n",
    "    columns=\"time_casa_em_casa\",\n",
    "    values=\"results_count\",\n",
    ")"
   ]
  },
  {
   "cell_type": "code",
   "execution_count": 25,
   "metadata": {},
   "outputs": [
    {
     "name": "stdout",
     "output_type": "stream",
     "text": [
      "p valor de 0.000, amostras são diferentes\n"
     ]
    }
   ],
   "source": [
    "_, p_valor, *_ = chi2_contingency(tabela_contigencia, correction=True)\n",
    "\n",
    "nivel_signficancia = 0.05\n",
    "\n",
    "if p_valor < nivel_signficancia:\n",
    "    print(f\"p valor de {p_valor:.3f}, amostras são diferentes\")\n",
    "else:\n",
    "    print(\n",
    "        f\"p valor de {p_valor}, amostras não podem ser consideradas diferentes\"\n",
    "    )\n"
   ]
  },
  {
   "cell_type": "markdown",
   "metadata": {},
   "source": [
    "# As equipes com jogadores mais ofensivos marcam mais gols? E times com goleiros mais fortes recebem menos gols?"
   ]
  },
  {
   "cell_type": "code",
   "execution_count": 26,
   "metadata": {},
   "outputs": [],
   "source": [
    "dados_a_partir_pontuacao = data.iloc[elemento_mais_antigo_contem_pontuacao:]\n",
    "\n",
    "saldo_gols = dados_a_partir_pontuacao.copy()\n",
    "\n",
    "saldo_gols[\"saldo_gols\"] = saldo_gols[\"home_team_score\"] - saldo_gols[\"away_team_score\"]"
   ]
  },
  {
   "cell_type": "code",
   "execution_count": 27,
   "metadata": {},
   "outputs": [
    {
     "name": "stderr",
     "output_type": "stream",
     "text": [
      "/tmp/ipykernel_5257/2326486360.py:25: SettingWithCopyWarning: \n",
      "A value is trying to be set on a copy of a slice from a DataFrame.\n",
      "Try using .loc[row_indexer,col_indexer] = value instead\n",
      "\n",
      "See the caveats in the documentation: https://pandas.pydata.org/pandas-docs/stable/user_guide/indexing.html#returning-a-view-versus-a-copy\n"
     ]
    }
   ],
   "source": [
    "saldo_gols_time_casa = saldo_gols[\n",
    "    [\n",
    "        \"date\",\n",
    "        \"home_team\",\n",
    "        \"home_team_score\",\n",
    "        \"away_team_score\",\n",
    "        \"home_team_goalkeeper_score\",\n",
    "        \"home_team_mean_offense_score\",\n",
    "        \"saldo_gols\"\n",
    "    ]\n",
    "]\n",
    "\n",
    "saldo_gols_time_visitante = saldo_gols[\n",
    "    [\n",
    "        \"date\",\n",
    "        \"away_team\",\n",
    "        \"home_team_score\",\n",
    "        \"away_team_score\",\n",
    "        \"away_team_goalkeeper_score\",\n",
    "        \"away_team_mean_offense_score\",\n",
    "        \"saldo_gols\"\n",
    "    ]\n",
    "]\n",
    "\n",
    "saldo_gols_time_visitante[\"saldo_gols\"] = -1 * saldo_gols_time_visitante[\"saldo_gols\"]"
   ]
  },
  {
   "cell_type": "code",
   "execution_count": 28,
   "metadata": {},
   "outputs": [],
   "source": [
    "saldo_gols_time_casa_renomeado = saldo_gols_time_casa.rename(\n",
    "    columns={\n",
    "        \"home_team\": \"time\",\n",
    "        \"home_team_score\": \"gols_feitos\",\n",
    "        \"away_team_score\": \"gols_levados\",\n",
    "        \"home_team_goalkeeper_score\": \"pontuacao_goleiro\",\n",
    "        \"home_team_mean_offense_score\": \"pontuacao_ataque\",\n",
    "    }\n",
    ")\n",
    "\n",
    "saldo_gols_time_visitante_renomeado = saldo_gols_time_visitante.rename(\n",
    "    columns={\n",
    "        \"away_team\": \"time\",\n",
    "        \"home_team_score\": \"gols_levados\",\n",
    "        \"away_team_score\": \"gols_feitos\",\n",
    "        \"away_team_goalkeeper_score\": \"pontuacao_goleiro\",\n",
    "        \"away_team_mean_offense_score\": \"pontuacao_ataque\",\n",
    "    }\n",
    ")\n"
   ]
  },
  {
   "cell_type": "code",
   "execution_count": 29,
   "metadata": {},
   "outputs": [],
   "source": [
    "saldo_total = pd.concat(\n",
    "    [saldo_gols_time_casa_renomeado, saldo_gols_time_visitante_renomeado]\n",
    ")\n",
    "\n",
    "saldo_total_todas_pontuacoes = saldo_total.dropna()\n"
   ]
  },
  {
   "cell_type": "code",
   "execution_count": 30,
   "metadata": {},
   "outputs": [],
   "source": [
    "media_indicadores = saldo_total_todas_pontuacoes.groupby(\"time\")[\n",
    "    [\"gols_feitos\", \"gols_levados\", \"pontuacao_goleiro\", \"pontuacao_ataque\", \"saldo_gols\"]\n",
    "].mean()\n"
   ]
  },
  {
   "cell_type": "code",
   "execution_count": 31,
   "metadata": {},
   "outputs": [
    {
     "data": {
      "image/png": "[encoded data removed]",
      "text/plain": [
       "<Figure size 640x480 with 1 Axes>"
      ]
     },
     "metadata": {},
     "output_type": "display_data"
    },
    {
     "data": {
      "text/plain": [
       "<ggplot: (8750220837048)>"
      ]
     },
     "execution_count": 31,
     "metadata": {},
     "output_type": "execute_result"
    }
   ],
   "source": [
    "p = ggplot(aes(x='pontuacao_ataque', y='gols_feitos'), media_indicadores)\n",
    "p + geom_point() + coord_cartesian(xlim=(50,90), ylim=(-4, 4))"
   ]
  },
  {
   "cell_type": "code",
   "execution_count": 32,
   "metadata": {},
   "outputs": [
    {
     "data": {
      "image/png": "[encoded data removed]",
      "text/plain": [
       "<Figure size 640x480 with 1 Axes>"
      ]
     },
     "metadata": {},
     "output_type": "display_data"
    },
    {
     "data": {
      "text/plain": [
       "<ggplot: (8750220785475)>"
      ]
     },
     "execution_count": 32,
     "metadata": {},
     "output_type": "execute_result"
    }
   ],
   "source": [
    "p = ggplot(aes(x='pontuacao_goleiro', y='gols_levados'), media_indicadores)\n",
    "p + geom_point() + coord_cartesian(xlim=(50,90), ylim=(-4, 4))"
   ]
  },
  {
   "cell_type": "code",
   "execution_count": 33,
   "metadata": {},
   "outputs": [
    {
     "data": {
      "image/png": "[encoded data removed]",
      "text/plain": [
       "<Figure size 640x480 with 1 Axes>"
      ]
     },
     "metadata": {},
     "output_type": "display_data"
    },
    {
     "data": {
      "text/plain": [
       "<ggplot: (8750220729450)>"
      ]
     },
     "execution_count": 33,
     "metadata": {},
     "output_type": "execute_result"
    }
   ],
   "source": [
    "p = ggplot(aes(x='pontuacao_ataque', y='saldo_gols'), media_indicadores)\n",
    "p + geom_point() + coord_cartesian(xlim=(50,90), ylim=(-4, 4))"
   ]
  },
  {
   "cell_type": "code",
   "execution_count": 34,
   "metadata": {},
   "outputs": [
    {
     "data": {
      "image/png": "[encoded data removed]",
      "text/plain": [
       "<Figure size 640x480 with 1 Axes>"
      ]
     },
     "metadata": {},
     "output_type": "display_data"
    },
    {
     "data": {
      "text/plain": [
       "<ggplot: (8750220705994)>"
      ]
     },
     "execution_count": 34,
     "metadata": {},
     "output_type": "execute_result"
    }
   ],
   "source": [
    "p = ggplot(aes(x='pontuacao_goleiro', y='saldo_gols'), media_indicadores)\n",
    "p + geom_point() + coord_cartesian(xlim=(50,90), ylim=(-4, 4))"
   ]
  },
  {
   "cell_type": "code",
   "execution_count": 35,
   "metadata": {},
   "outputs": [],
   "source": [
    "times_por_gols_feitos = media_indicadores.sort_values(\n",
    "    by=\"gols_feitos\", ascending=False\n",
    ")\n",
    "times_por_gols_levados = media_indicadores.sort_values(\n",
    "    by=\"gols_levados\", ascending=False\n",
    ")"
   ]
  },
  {
   "cell_type": "code",
   "execution_count": 36,
   "metadata": {},
   "outputs": [
    {
     "data": {
      "text/html": [
       "<div>\n",
       "<style scoped>\n",
       "    .dataframe tbody tr th:only-of-type {\n",
       "        vertical-align: middle;\n",
       "    }\n",
       "\n",
       "    .dataframe tbody tr th {\n",
       "        vertical-align: top;\n",
       "    }\n",
       "\n",
       "    .dataframe thead th {\n",
       "        text-align: right;\n",
       "    }\n",
       "</style>\n",
       "<table border=\"1\" class=\"dataframe\">\n",
       "  <thead>\n",
       "    <tr style=\"text-align: right;\">\n",
       "      <th></th>\n",
       "      <th>gols_feitos</th>\n",
       "      <th>gols_levados</th>\n",
       "      <th>pontuacao_goleiro</th>\n",
       "      <th>pontuacao_ataque</th>\n",
       "      <th>saldo_gols</th>\n",
       "    </tr>\n",
       "    <tr>\n",
       "      <th>time</th>\n",
       "      <th></th>\n",
       "      <th></th>\n",
       "      <th></th>\n",
       "      <th></th>\n",
       "      <th></th>\n",
       "    </tr>\n",
       "  </thead>\n",
       "  <tbody>\n",
       "    <tr>\n",
       "      <th>Germany</th>\n",
       "      <td>2.380165</td>\n",
       "      <td>1.033058</td>\n",
       "      <td>89.053719</td>\n",
       "      <td>83.602066</td>\n",
       "      <td>1.347107</td>\n",
       "    </tr>\n",
       "    <tr>\n",
       "      <th>Barbados</th>\n",
       "      <td>2.250000</td>\n",
       "      <td>1.625000</td>\n",
       "      <td>48.000000</td>\n",
       "      <td>59.700000</td>\n",
       "      <td>0.625000</td>\n",
       "    </tr>\n",
       "    <tr>\n",
       "      <th>Spain</th>\n",
       "      <td>2.223629</td>\n",
       "      <td>0.683544</td>\n",
       "      <td>88.784810</td>\n",
       "      <td>85.874684</td>\n",
       "      <td>1.540084</td>\n",
       "    </tr>\n",
       "    <tr>\n",
       "      <th>Brazil</th>\n",
       "      <td>2.167347</td>\n",
       "      <td>0.636735</td>\n",
       "      <td>86.261224</td>\n",
       "      <td>86.531020</td>\n",
       "      <td>1.530612</td>\n",
       "    </tr>\n",
       "    <tr>\n",
       "      <th>Belgium</th>\n",
       "      <td>2.072165</td>\n",
       "      <td>1.056701</td>\n",
       "      <td>82.443299</td>\n",
       "      <td>81.723196</td>\n",
       "      <td>1.015464</td>\n",
       "    </tr>\n",
       "    <tr>\n",
       "      <th>...</th>\n",
       "      <td>...</td>\n",
       "      <td>...</td>\n",
       "      <td>...</td>\n",
       "      <td>...</td>\n",
       "      <td>...</td>\n",
       "    </tr>\n",
       "    <tr>\n",
       "      <th>Moldova</th>\n",
       "      <td>0.717949</td>\n",
       "      <td>1.846154</td>\n",
       "      <td>64.256410</td>\n",
       "      <td>60.638462</td>\n",
       "      <td>-1.128205</td>\n",
       "    </tr>\n",
       "    <tr>\n",
       "      <th>Cyprus</th>\n",
       "      <td>0.538462</td>\n",
       "      <td>2.076923</td>\n",
       "      <td>64.000000</td>\n",
       "      <td>59.700000</td>\n",
       "      <td>-1.538462</td>\n",
       "    </tr>\n",
       "    <tr>\n",
       "      <th>Guinea-Bissau</th>\n",
       "      <td>0.333333</td>\n",
       "      <td>1.333333</td>\n",
       "      <td>58.000000</td>\n",
       "      <td>71.300000</td>\n",
       "      <td>-1.000000</td>\n",
       "    </tr>\n",
       "    <tr>\n",
       "      <th>Malta</th>\n",
       "      <td>0.181818</td>\n",
       "      <td>2.090909</td>\n",
       "      <td>64.000000</td>\n",
       "      <td>60.300000</td>\n",
       "      <td>-1.909091</td>\n",
       "    </tr>\n",
       "    <tr>\n",
       "      <th>Central African Republic</th>\n",
       "      <td>0.000000</td>\n",
       "      <td>4.000000</td>\n",
       "      <td>57.000000</td>\n",
       "      <td>61.000000</td>\n",
       "      <td>-4.000000</td>\n",
       "    </tr>\n",
       "  </tbody>\n",
       "</table>\n",
       "<p>103 rows × 5 columns</p>\n",
       "</div>"
      ],
      "text/plain": [
       "                          gols_feitos  gols_levados  pontuacao_goleiro  \\\n",
       "time                                                                     \n",
       "Germany                      2.380165      1.033058          89.053719   \n",
       "Barbados                     2.250000      1.625000          48.000000   \n",
       "Spain                        2.223629      0.683544          88.784810   \n",
       "Brazil                       2.167347      0.636735          86.261224   \n",
       "Belgium                      2.072165      1.056701          82.443299   \n",
       "...                               ...           ...                ...   \n",
       "Moldova                      0.717949      1.846154          64.256410   \n",
       "Cyprus                       0.538462      2.076923          64.000000   \n",
       "Guinea-Bissau                0.333333      1.333333          58.000000   \n",
       "Malta                        0.181818      2.090909          64.000000   \n",
       "Central African Republic     0.000000      4.000000          57.000000   \n",
       "\n",
       "                          pontuacao_ataque  saldo_gols  \n",
       "time                                                    \n",
       "Germany                          83.602066    1.347107  \n",
       "Barbados                         59.700000    0.625000  \n",
       "Spain                            85.874684    1.540084  \n",
       "Brazil                           86.531020    1.530612  \n",
       "Belgium                          81.723196    1.015464  \n",
       "...                                    ...         ...  \n",
       "Moldova                          60.638462   -1.128205  \n",
       "Cyprus                           59.700000   -1.538462  \n",
       "Guinea-Bissau                    71.300000   -1.000000  \n",
       "Malta                            60.300000   -1.909091  \n",
       "Central African Republic         61.000000   -4.000000  \n",
       "\n",
       "[103 rows x 5 columns]"
      ]
     },
     "execution_count": 36,
     "metadata": {},
     "output_type": "execute_result"
    }
   ],
   "source": [
    "times_por_gols_feitos"
   ]
  },
  {
   "cell_type": "code",
   "execution_count": 37,
   "metadata": {},
   "outputs": [
    {
     "data": {
      "text/html": [
       "<div>\n",
       "<style scoped>\n",
       "    .dataframe tbody tr th:only-of-type {\n",
       "        vertical-align: middle;\n",
       "    }\n",
       "\n",
       "    .dataframe tbody tr th {\n",
       "        vertical-align: top;\n",
       "    }\n",
       "\n",
       "    .dataframe thead th {\n",
       "        text-align: right;\n",
       "    }\n",
       "</style>\n",
       "<table border=\"1\" class=\"dataframe\">\n",
       "  <thead>\n",
       "    <tr style=\"text-align: right;\">\n",
       "      <th></th>\n",
       "      <th>gols_feitos</th>\n",
       "      <th>gols_levados</th>\n",
       "      <th>pontuacao_goleiro</th>\n",
       "      <th>pontuacao_ataque</th>\n",
       "      <th>saldo_gols</th>\n",
       "    </tr>\n",
       "    <tr>\n",
       "      <th>time</th>\n",
       "      <th></th>\n",
       "      <th></th>\n",
       "      <th></th>\n",
       "      <th></th>\n",
       "      <th></th>\n",
       "    </tr>\n",
       "  </thead>\n",
       "  <tbody>\n",
       "    <tr>\n",
       "      <th>Central African Republic</th>\n",
       "      <td>0.000000</td>\n",
       "      <td>4.000000</td>\n",
       "      <td>57.000000</td>\n",
       "      <td>61.000000</td>\n",
       "      <td>-4.000000</td>\n",
       "    </tr>\n",
       "    <tr>\n",
       "      <th>Haiti</th>\n",
       "      <td>1.500000</td>\n",
       "      <td>3.500000</td>\n",
       "      <td>66.000000</td>\n",
       "      <td>60.700000</td>\n",
       "      <td>-2.000000</td>\n",
       "    </tr>\n",
       "    <tr>\n",
       "      <th>Bermuda</th>\n",
       "      <td>1.000000</td>\n",
       "      <td>2.500000</td>\n",
       "      <td>61.000000</td>\n",
       "      <td>60.300000</td>\n",
       "      <td>-1.500000</td>\n",
       "    </tr>\n",
       "    <tr>\n",
       "      <th>Armenia</th>\n",
       "      <td>0.966667</td>\n",
       "      <td>2.266667</td>\n",
       "      <td>62.500000</td>\n",
       "      <td>70.856667</td>\n",
       "      <td>-1.300000</td>\n",
       "    </tr>\n",
       "    <tr>\n",
       "      <th>Malta</th>\n",
       "      <td>0.181818</td>\n",
       "      <td>2.090909</td>\n",
       "      <td>64.000000</td>\n",
       "      <td>60.300000</td>\n",
       "      <td>-1.909091</td>\n",
       "    </tr>\n",
       "    <tr>\n",
       "      <th>...</th>\n",
       "      <td>...</td>\n",
       "      <td>...</td>\n",
       "      <td>...</td>\n",
       "      <td>...</td>\n",
       "      <td>...</td>\n",
       "    </tr>\n",
       "    <tr>\n",
       "      <th>Morocco</th>\n",
       "      <td>1.602041</td>\n",
       "      <td>0.755102</td>\n",
       "      <td>72.086735</td>\n",
       "      <td>77.056122</td>\n",
       "      <td>0.846939</td>\n",
       "    </tr>\n",
       "    <tr>\n",
       "      <th>England</th>\n",
       "      <td>2.009259</td>\n",
       "      <td>0.750000</td>\n",
       "      <td>83.240741</td>\n",
       "      <td>85.118981</td>\n",
       "      <td>1.259259</td>\n",
       "    </tr>\n",
       "    <tr>\n",
       "      <th>Spain</th>\n",
       "      <td>2.223629</td>\n",
       "      <td>0.683544</td>\n",
       "      <td>88.784810</td>\n",
       "      <td>85.874684</td>\n",
       "      <td>1.540084</td>\n",
       "    </tr>\n",
       "    <tr>\n",
       "      <th>Brazil</th>\n",
       "      <td>2.167347</td>\n",
       "      <td>0.636735</td>\n",
       "      <td>86.261224</td>\n",
       "      <td>86.531020</td>\n",
       "      <td>1.530612</td>\n",
       "    </tr>\n",
       "    <tr>\n",
       "      <th>IR Iran</th>\n",
       "      <td>2.047619</td>\n",
       "      <td>0.559524</td>\n",
       "      <td>70.857143</td>\n",
       "      <td>71.511905</td>\n",
       "      <td>1.488095</td>\n",
       "    </tr>\n",
       "  </tbody>\n",
       "</table>\n",
       "<p>103 rows × 5 columns</p>\n",
       "</div>"
      ],
      "text/plain": [
       "                          gols_feitos  gols_levados  pontuacao_goleiro  \\\n",
       "time                                                                     \n",
       "Central African Republic     0.000000      4.000000          57.000000   \n",
       "Haiti                        1.500000      3.500000          66.000000   \n",
       "Bermuda                      1.000000      2.500000          61.000000   \n",
       "Armenia                      0.966667      2.266667          62.500000   \n",
       "Malta                        0.181818      2.090909          64.000000   \n",
       "...                               ...           ...                ...   \n",
       "Morocco                      1.602041      0.755102          72.086735   \n",
       "England                      2.009259      0.750000          83.240741   \n",
       "Spain                        2.223629      0.683544          88.784810   \n",
       "Brazil                       2.167347      0.636735          86.261224   \n",
       "IR Iran                      2.047619      0.559524          70.857143   \n",
       "\n",
       "                          pontuacao_ataque  saldo_gols  \n",
       "time                                                    \n",
       "Central African Republic         61.000000   -4.000000  \n",
       "Haiti                            60.700000   -2.000000  \n",
       "Bermuda                          60.300000   -1.500000  \n",
       "Armenia                          70.856667   -1.300000  \n",
       "Malta                            60.300000   -1.909091  \n",
       "...                                    ...         ...  \n",
       "Morocco                          77.056122    0.846939  \n",
       "England                          85.118981    1.259259  \n",
       "Spain                            85.874684    1.540084  \n",
       "Brazil                           86.531020    1.530612  \n",
       "IR Iran                          71.511905    1.488095  \n",
       "\n",
       "[103 rows x 5 columns]"
      ]
     },
     "execution_count": 37,
     "metadata": {},
     "output_type": "execute_result"
    }
   ],
   "source": [
    "times_por_gols_levados"
   ]
  },
  {
   "cell_type": "markdown",
   "metadata": {},
   "source": [
    "### Analisando barbados"
   ]
  },
  {
   "cell_type": "code",
   "execution_count": 38,
   "metadata": {},
   "outputs": [],
   "source": [
    "partidas_barbados = (data[\"home_team\"] == \"Barbados\") | (data[\"away_team\"] == \"Barbados\")\n",
    "\n",
    "informacoes_barbados = data.loc[partidas_barbados]"
   ]
  },
  {
   "cell_type": "code",
   "execution_count": 39,
   "metadata": {},
   "outputs": [
    {
     "data": {
      "image/png": "[encoded data removed]",
      "text/plain": [
       "<Figure size 640x480 with 1 Axes>"
      ]
     },
     "metadata": {},
     "output_type": "display_data"
    },
    {
     "data": {
      "text/plain": [
       "<ggplot: (8750220705940)>"
      ]
     },
     "execution_count": 39,
     "metadata": {},
     "output_type": "execute_result"
    }
   ],
   "source": [
    "p = ggplot(informacoes_barbados, aes('country', fill='country'))\n",
    "p  + geom_bar() + coord_flip()"
   ]
  },
  {
   "cell_type": "markdown",
   "metadata": {},
   "source": [
    "## Ataque dos times que mais fizeram gols é diferente do que menos fizeram? E pontuação do goleiro para o que mais levaram gols?"
   ]
  },
  {
   "cell_type": "code",
   "execution_count": 40,
   "metadata": {},
   "outputs": [],
   "source": [
    "n_mais_relavantes = 20\n",
    "\n",
    "\n",
    "mais_fizeram_gols = times_por_gols_feitos.iloc[:n_mais_relavantes]\n",
    "mais_levaram_gols = times_por_gols_levados.iloc[:n_mais_relavantes]\n",
    "\n",
    "pontuacao_ataque_mais_fizeram_gols = mais_fizeram_gols[\"pontuacao_ataque\"].values\n",
    "pontuacao_ataque_mais_levaram_gols = mais_levaram_gols[\"pontuacao_ataque\"].values\n",
    "\n",
    "pontuacao_goleiro_mais_fizeram_gols = mais_fizeram_gols[\"pontuacao_goleiro\"].values\n",
    "pontuacao_goleiro_mais_levaram_gols = mais_levaram_gols[\"pontuacao_goleiro\"].values"
   ]
  },
  {
   "cell_type": "code",
   "execution_count": 41,
   "metadata": {},
   "outputs": [
    {
     "name": "stdout",
     "output_type": "stream",
     "text": [
      "p valor de 0.000, ataques são diferentes\n"
     ]
    }
   ],
   "source": [
    "_, p_valor = ztest(pontuacao_ataque_mais_fizeram_gols, pontuacao_ataque_mais_levaram_gols, value=0)\n",
    "\n",
    "nivel_significancia = 0.05\n",
    "\n",
    "if p_valor < nivel_signficancia:\n",
    "    print(f\"p valor de {p_valor:.3f}, ataques são diferentes\")\n",
    "else:\n",
    "    print(\n",
    "        f\"p valor de {p_valor}, ataques não podem ser consideradas diferentes\"\n",
    "    )\n"
   ]
  },
  {
   "cell_type": "code",
   "execution_count": 42,
   "metadata": {},
   "outputs": [
    {
     "name": "stdout",
     "output_type": "stream",
     "text": [
      "p valor de 0.000, goleiros são diferentes\n"
     ]
    }
   ],
   "source": [
    "_, p_valor = ztest(\n",
    "    pontuacao_goleiro_mais_fizeram_gols, pontuacao_goleiro_mais_levaram_gols, value=0\n",
    ")\n",
    "\n",
    "if p_valor < nivel_signficancia:\n",
    "    print(f\"p valor de {p_valor:.3f}, goleiros são diferentes\")\n",
    "else:\n",
    "    print(\n",
    "        f\"p valor de {p_valor}, goleiros não podem ser consideradas diferentes\"\n",
    "    )"
   ]
  },
  {
   "cell_type": "markdown",
   "metadata": {},
   "source": [
    "# Qual time tem a maior sequência de vitórias?"
   ]
  },
  {
   "cell_type": "code",
   "execution_count": 43,
   "metadata": {},
   "outputs": [],
   "source": [
    "partidas_casa = data[[\"date\", \"home_team\", \"tournament\", \"city\", \"country\", \"home_team_result\"]]\n",
    "\n",
    "partidas_visitante = data[[\"date\", \"away_team\", \"tournament\", \"city\", \"country\", \"home_team_result\"]]"
   ]
  },
  {
   "cell_type": "code",
   "execution_count": 44,
   "metadata": {},
   "outputs": [],
   "source": [
    "partidas_casa_sem_empate = partidas_casa.copy()\n",
    "partidas_casa_sem_empate.loc[partidas_casa_sem_empate[\"home_team_result\"] == \"Draw\", \"home_team_result\"] = np.nan\n",
    "\n",
    "partidas_casa_sem_empate = partidas_casa_sem_empate.dropna()\n",
    "\n",
    "\n",
    "partidas_visitante_sem_empate = partidas_visitante.copy()\n",
    "partidas_visitante_sem_empate.loc[partidas_visitante_sem_empate[\"home_team_result\"] == \"Draw\", \"home_team_result\"] = np.nan\n",
    "\n",
    "partidas_visitante_sem_empate = partidas_visitante_sem_empate.dropna()"
   ]
  },
  {
   "cell_type": "code",
   "execution_count": 45,
   "metadata": {},
   "outputs": [],
   "source": [
    "partidas_casa_sem_empate[\"ganhou\"] = partidas_casa_sem_empate[\"home_team_result\"] == \"Win\"\n",
    "\n",
    "partidas_visitante_sem_empate[\"ganhou\"] = partidas_visitante_sem_empate[\"home_team_result\"] == \"Lose\""
   ]
  },
  {
   "cell_type": "code",
   "execution_count": 46,
   "metadata": {},
   "outputs": [],
   "source": [
    "partidas_casa_sem_empate = partidas_casa_sem_empate.rename(columns={\"home_team\": \"team\"})\n",
    "partidas_casa_sem_empate = partidas_casa_sem_empate.drop(columns=[\"home_team_result\"])\n",
    "\n",
    "partidas_visitante_sem_empate = partidas_visitante_sem_empate.rename(columns={\"away_team\": \"team\"})\n",
    "partidas_visitante_sem_empate = partidas_visitante_sem_empate.drop(columns=[\"home_team_result\"])"
   ]
  },
  {
   "cell_type": "code",
   "execution_count": 47,
   "metadata": {},
   "outputs": [],
   "source": [
    "resultado_partidas = pd.concat([partidas_casa_sem_empate, partidas_visitante_sem_empate], axis=0)\n",
    "\n",
    "resultado_partidas_ordenado = resultado_partidas.sort_values(by=[\"team\", \"date\"]).reset_index(drop=True)"
   ]
  },
  {
   "cell_type": "code",
   "execution_count": 48,
   "metadata": {},
   "outputs": [],
   "source": [
    "times = resultado_partidas_ordenado[\"team\"].unique()\n",
    "\n",
    "maior_sequencia_vitorias = 0\n",
    "time_maior_sequencia_vitorias = None\n",
    "\n",
    "for time in times:\n",
    "\n",
    "    resultados_time = resultado_partidas_ordenado[resultado_partidas_ordenado[\"team\"] == time]\n",
    "\n",
    "    vitorias_time = resultados_time[\"ganhou\"].values\n",
    "\n",
    "    sequencia_vitorias = [list(group) for item, group in groupby(vitorias_time) if item == True]\n",
    "\n",
    "    maior_sequencia_vitorias_time = len(max(sequencia_vitorias, key=len))\n",
    "\n",
    "    if maior_sequencia_vitorias_time > maior_sequencia_vitorias:\n",
    "        maior_sequencia_vitorias = maior_sequencia_vitorias_time\n",
    "        time_maior_sequencia_vitorias = time\n"
   ]
  },
  {
   "cell_type": "code",
   "execution_count": 49,
   "metadata": {},
   "outputs": [
    {
     "name": "stdout",
     "output_type": "stream",
     "text": [
      "time com maior sequencia de vitorias foi Spain, com 33 vitorias\n"
     ]
    }
   ],
   "source": [
    "print(f\"time com maior sequencia de vitorias foi {time_maior_sequencia_vitorias}, com {maior_sequencia_vitorias} vitorias\")"
   ]
  },
  {
   "cell_type": "markdown",
   "metadata": {},
   "source": [
    "# Classificador para predizer derrota"
   ]
  },
  {
   "cell_type": "markdown",
   "metadata": {},
   "source": [
    "## Desconsiderando empates"
   ]
  },
  {
   "cell_type": "code",
   "execution_count": 50,
   "metadata": {},
   "outputs": [],
   "source": [
    "dados_comeco_avaliacam_scores = data.iloc[elemento_mais_antigo_contem_pontuacao:]\n",
    "\n",
    "dados_sem_empate = dados_comeco_avaliacam_scores[dados_comeco_avaliacam_scores[\"home_team_result\"] != \"Draw\"]\n",
    "\n",
    "\n",
    "partidas_time_da_casa_joga_em_casa = dados_sem_empate[\"country\"] == dados_sem_empate[\"home_team\"]\n",
    "partidas_time_visitante_joga_em_casa = dados_sem_empate[\"country\"] == dados_sem_empate[\"away_team\"]\n",
    "\n",
    "partidas_neutras = dados_sem_empate[\"neutral_location\"]"
   ]
  },
  {
   "cell_type": "code",
   "execution_count": 51,
   "metadata": {},
   "outputs": [],
   "source": [
    "sem_empate_status_de_onde_esta_jogando = dados_sem_empate.copy()\n",
    "\n",
    "sem_empate_status_de_onde_esta_jogando.loc[partidas_time_da_casa_joga_em_casa, \"local_partida\"] = \"Casa\"\n",
    "sem_empate_status_de_onde_esta_jogando.loc[partidas_time_visitante_joga_em_casa, \"local_partida\"] = \"Visitante\"\n",
    "sem_empate_status_de_onde_esta_jogando.loc[partidas_neutras, \"local_partida\"] = \"Neutro\""
   ]
  },
  {
   "cell_type": "code",
   "execution_count": 52,
   "metadata": {},
   "outputs": [
    {
     "data": {
      "text/plain": [
       "Casa      8956\n",
       "Neutro    3150\n",
       "Name: local_partida, dtype: int64"
      ]
     },
     "execution_count": 52,
     "metadata": {},
     "output_type": "execute_result"
    }
   ],
   "source": [
    "# Não tem partidas no visitante?\n",
    "\n",
    "sem_empate_status_de_onde_esta_jogando[\"local_partida\"].value_counts()"
   ]
  },
  {
   "cell_type": "code",
   "execution_count": 53,
   "metadata": {},
   "outputs": [],
   "source": [
    "dev_data = sem_empate_status_de_onde_esta_jogando.query(\"date < '01-01-2022'\")\n",
    "test_data = sem_empate_status_de_onde_esta_jogando.query(\"date >= '01-01-2022'\")"
   ]
  },
  {
   "cell_type": "code",
   "execution_count": 54,
   "metadata": {},
   "outputs": [],
   "source": [
    "assert dev_data.date.max() <= pd.to_datetime(\"12-31-2021\")\n",
    "assert test_data.date.min() >= pd.to_datetime(\"01-01-2022\")"
   ]
  },
  {
   "cell_type": "code",
   "execution_count": 55,
   "metadata": {},
   "outputs": [
    {
     "name": "stdout",
     "output_type": "stream",
     "text": [
      "<class 'pandas.core.frame.DataFrame'>\n",
      "Int64Index: 11662 entries, 8262 to 23349\n",
      "Data columns (total 26 columns):\n",
      " #   Column                         Non-Null Count  Dtype         \n",
      "---  ------                         --------------  -----         \n",
      " 0   date                           11662 non-null  datetime64[ns]\n",
      " 1   home_team                      11662 non-null  object        \n",
      " 2   away_team                      11662 non-null  object        \n",
      " 3   home_team_continent            11662 non-null  object        \n",
      " 4   away_team_continent            11662 non-null  object        \n",
      " 5   home_team_fifa_rank            11662 non-null  int64         \n",
      " 6   away_team_fifa_rank            11662 non-null  int64         \n",
      " 7   home_team_total_fifa_points    11662 non-null  int64         \n",
      " 8   away_team_total_fifa_points    11662 non-null  int64         \n",
      " 9   home_team_score                11662 non-null  int64         \n",
      " 10  away_team_score                11662 non-null  int64         \n",
      " 11  tournament                     11662 non-null  object        \n",
      " 12  city                           11662 non-null  object        \n",
      " 13  country                        11662 non-null  object        \n",
      " 14  neutral_location               11662 non-null  bool          \n",
      " 15  shoot_out                      11662 non-null  object        \n",
      " 16  home_team_result               11662 non-null  object        \n",
      " 17  home_team_goalkeeper_score     6237 non-null   float64       \n",
      " 18  away_team_goalkeeper_score     5911 non-null   float64       \n",
      " 19  home_team_mean_defense_score   5817 non-null   float64       \n",
      " 20  home_team_mean_offense_score   6381 non-null   float64       \n",
      " 21  home_team_mean_midfield_score  6107 non-null   float64       \n",
      " 22  away_team_mean_defense_score   5514 non-null   float64       \n",
      " 23  away_team_mean_offense_score   6016 non-null   float64       \n",
      " 24  away_team_mean_midfield_score  5787 non-null   float64       \n",
      " 25  local_partida                  11656 non-null  object        \n",
      "dtypes: bool(1), datetime64[ns](1), float64(8), int64(6), object(10)\n",
      "memory usage: 2.3+ MB\n"
     ]
    }
   ],
   "source": [
    "dev_data.info()"
   ]
  },
  {
   "cell_type": "code",
   "execution_count": 56,
   "metadata": {},
   "outputs": [
    {
     "name": "stdout",
     "output_type": "stream",
     "text": [
      "<class 'pandas.core.frame.DataFrame'>\n",
      "Int64Index: 450 entries, 23350 to 23920\n",
      "Data columns (total 26 columns):\n",
      " #   Column                         Non-Null Count  Dtype         \n",
      "---  ------                         --------------  -----         \n",
      " 0   date                           450 non-null    datetime64[ns]\n",
      " 1   home_team                      450 non-null    object        \n",
      " 2   away_team                      450 non-null    object        \n",
      " 3   home_team_continent            450 non-null    object        \n",
      " 4   away_team_continent            450 non-null    object        \n",
      " 5   home_team_fifa_rank            450 non-null    int64         \n",
      " 6   away_team_fifa_rank            450 non-null    int64         \n",
      " 7   home_team_total_fifa_points    450 non-null    int64         \n",
      " 8   away_team_total_fifa_points    450 non-null    int64         \n",
      " 9   home_team_score                450 non-null    int64         \n",
      " 10  away_team_score                450 non-null    int64         \n",
      " 11  tournament                     450 non-null    object        \n",
      " 12  city                           450 non-null    object        \n",
      " 13  country                        450 non-null    object        \n",
      " 14  neutral_location               450 non-null    bool          \n",
      " 15  shoot_out                      450 non-null    object        \n",
      " 16  home_team_result               450 non-null    object        \n",
      " 17  home_team_goalkeeper_score     261 non-null    float64       \n",
      " 18  away_team_goalkeeper_score     233 non-null    float64       \n",
      " 19  home_team_mean_defense_score   235 non-null    float64       \n",
      " 20  home_team_mean_offense_score   259 non-null    float64       \n",
      " 21  home_team_mean_midfield_score  252 non-null    float64       \n",
      " 22  away_team_mean_defense_score   211 non-null    float64       \n",
      " 23  away_team_mean_offense_score   248 non-null    float64       \n",
      " 24  away_team_mean_midfield_score  231 non-null    float64       \n",
      " 25  local_partida                  450 non-null    object        \n",
      "dtypes: bool(1), datetime64[ns](1), float64(8), int64(6), object(10)\n",
      "memory usage: 91.8+ KB\n"
     ]
    }
   ],
   "source": [
    "test_data.info()"
   ]
  },
  {
   "cell_type": "code",
   "execution_count": 57,
   "metadata": {},
   "outputs": [],
   "source": [
    "nomes_features = [\n",
    "    \"local_partida\",\n",
    "    \"home_team_goalkeeper_score\",\n",
    "    \"home_team_mean_defense_score\",\n",
    "    \"home_team_mean_offense_score\",\n",
    "    \"home_team_mean_midfield_score\",\n",
    "    \"away_team_goalkeeper_score\",\n",
    "    \"away_team_mean_defense_score\",\n",
    "    \"away_team_mean_offense_score\",\n",
    "    \"away_team_mean_midfield_score\",\n",
    "]\n",
    "\n",
    "nome_alvo = \"home_team_result\""
   ]
  },
  {
   "cell_type": "markdown",
   "metadata": {},
   "source": [
    "## Treinar modelo de regressão logística"
   ]
  },
  {
   "cell_type": "markdown",
   "metadata": {},
   "source": [
    "### Separar conjunto de desenvolvimento em treino e teste"
   ]
  },
  {
   "cell_type": "code",
   "execution_count": 58,
   "metadata": {},
   "outputs": [
    {
     "name": "stderr",
     "output_type": "stream",
     "text": [
      "/home/felipe/.local/share/virtualenvs/fifa_matches_analysis-WfP819LB/lib/python3.9/site-packages/category_encoders/target_encoder.py:122: FutureWarning: Default parameter min_samples_leaf will change in version 2.6.See https://github.com/scikit-learn-contrib/category_encoders/issues/327\n",
      "/home/felipe/.local/share/virtualenvs/fifa_matches_analysis-WfP819LB/lib/python3.9/site-packages/category_encoders/target_encoder.py:127: FutureWarning: Default parameter smoothing will change in version 2.6.See https://github.com/scikit-learn-contrib/category_encoders/issues/327\n"
     ]
    }
   ],
   "source": [
    "features = dev_data[nomes_features]\n",
    "features_sem_faltantes = features.fillna(0)\n",
    "\n",
    "alvo_encoded = dev_data[nome_alvo].map(lambda x: 0 if x == \"Win\" else 1)\n",
    "\n",
    "encoder = TargetEncoder()\n",
    "\n",
    "features_train, features_val, y_train, y_val = train_test_split(features_sem_faltantes, alvo_encoded, test_size=0.2)\n",
    "\n",
    "features_train = encoder.fit_transform(features_train, y_train)\n",
    "\n",
    "features_val = encoder.transform(features_val)"
   ]
  },
  {
   "cell_type": "code",
   "execution_count": 59,
   "metadata": {},
   "outputs": [],
   "source": [
    "X_train = features_train.values\n",
    "\n",
    "X_val = features_val.values"
   ]
  },
  {
   "cell_type": "code",
   "execution_count": 60,
   "metadata": {},
   "outputs": [
    {
     "data": {
      "text/plain": [
       "array([0.70707395, 0.70128617, 0.71212609])"
      ]
     },
     "execution_count": 60,
     "metadata": {},
     "output_type": "execute_result"
    }
   ],
   "source": [
    "logreg = LogisticRegression()\n",
    "\n",
    "cross_val_score(logreg, X_train, y_train, cv=3, n_jobs=-1)"
   ]
  },
  {
   "cell_type": "code",
   "execution_count": 61,
   "metadata": {},
   "outputs": [
    {
     "data": {
      "text/html": [
       "<style>#sk-container-id-1 {color: black;background-color: white;}#sk-container-id-1 pre{padding: 0;}#sk-container-id-1 div.sk-toggleable {background-color: white;}#sk-container-id-1 label.sk-toggleable__label {cursor: pointer;display: block;width: 100%;margin-bottom: 0;padding: 0.3em;box-sizing: border-box;text-align: center;}#sk-container-id-1 label.sk-toggleable__label-arrow:before {content: \"▸\";float: left;margin-right: 0.25em;color: #696969;}#sk-container-id-1 label.sk-toggleable__label-arrow:hover:before {color: black;}#sk-container-id-1 div.sk-estimator:hover label.sk-toggleable__label-arrow:before {color: black;}#sk-container-id-1 div.sk-toggleable__content {max-height: 0;max-width: 0;overflow: hidden;text-align: left;background-color: #f0f8ff;}#sk-container-id-1 div.sk-toggleable__content pre {margin: 0.2em;color: black;border-radius: 0.25em;background-color: #f0f8ff;}#sk-container-id-1 input.sk-toggleable__control:checked~div.sk-toggleable__content {max-height: 200px;max-width: 100%;overflow: auto;}#sk-container-id-1 input.sk-toggleable__control:checked~label.sk-toggleable__label-arrow:before {content: \"▾\";}#sk-container-id-1 div.sk-estimator input.sk-toggleable__control:checked~label.sk-toggleable__label {background-color: #d4ebff;}#sk-container-id-1 div.sk-label input.sk-toggleable__control:checked~label.sk-toggleable__label {background-color: #d4ebff;}#sk-container-id-1 input.sk-hidden--visually {border: 0;clip: rect(1px 1px 1px 1px);clip: rect(1px, 1px, 1px, 1px);height: 1px;margin: -1px;overflow: hidden;padding: 0;position: absolute;width: 1px;}#sk-container-id-1 div.sk-estimator {font-family: monospace;background-color: #f0f8ff;border: 1px dotted black;border-radius: 0.25em;box-sizing: border-box;margin-bottom: 0.5em;}#sk-container-id-1 div.sk-estimator:hover {background-color: #d4ebff;}#sk-container-id-1 div.sk-parallel-item::after {content: \"\";width: 100%;border-bottom: 1px solid gray;flex-grow: 1;}#sk-container-id-1 div.sk-label:hover label.sk-toggleable__label {background-color: #d4ebff;}#sk-container-id-1 div.sk-serial::before {content: \"\";position: absolute;border-left: 1px solid gray;box-sizing: border-box;top: 0;bottom: 0;left: 50%;z-index: 0;}#sk-container-id-1 div.sk-serial {display: flex;flex-direction: column;align-items: center;background-color: white;padding-right: 0.2em;padding-left: 0.2em;position: relative;}#sk-container-id-1 div.sk-item {position: relative;z-index: 1;}#sk-container-id-1 div.sk-parallel {display: flex;align-items: stretch;justify-content: center;background-color: white;position: relative;}#sk-container-id-1 div.sk-item::before, #sk-container-id-1 div.sk-parallel-item::before {content: \"\";position: absolute;border-left: 1px solid gray;box-sizing: border-box;top: 0;bottom: 0;left: 50%;z-index: -1;}#sk-container-id-1 div.sk-parallel-item {display: flex;flex-direction: column;z-index: 1;position: relative;background-color: white;}#sk-container-id-1 div.sk-parallel-item:first-child::after {align-self: flex-end;width: 50%;}#sk-container-id-1 div.sk-parallel-item:last-child::after {align-self: flex-start;width: 50%;}#sk-container-id-1 div.sk-parallel-item:only-child::after {width: 0;}#sk-container-id-1 div.sk-dashed-wrapped {border: 1px dashed gray;margin: 0 0.4em 0.5em 0.4em;box-sizing: border-box;padding-bottom: 0.4em;background-color: white;}#sk-container-id-1 div.sk-label label {font-family: monospace;font-weight: bold;display: inline-block;line-height: 1.2em;}#sk-container-id-1 div.sk-label-container {text-align: center;}#sk-container-id-1 div.sk-container {/* jupyter's `normalize.less` sets `[hidden] { display: none; }` but bootstrap.min.css set `[hidden] { display: none !important; }` so we also need the `!important` here to be able to override the default hidden behavior on the sphinx rendered scikit-learn.org. See: https://github.com/scikit-learn/scikit-learn/issues/21755 */display: inline-block !important;position: relative;}#sk-container-id-1 div.sk-text-repr-fallback {display: none;}</style><div id=\"sk-container-id-1\" class=\"sk-top-container\"><div class=\"sk-text-repr-fallback\"><pre>LogisticRegression()</pre><b>In a Jupyter environment, please rerun this cell to show the HTML representation or trust the notebook. <br />On GitHub, the HTML representation is unable to render, please try loading this page with nbviewer.org.</b></div><div class=\"sk-container\" hidden><div class=\"sk-item\"><div class=\"sk-estimator sk-toggleable\"><input class=\"sk-toggleable__control sk-hidden--visually\" id=\"sk-estimator-id-1\" type=\"checkbox\" checked><label for=\"sk-estimator-id-1\" class=\"sk-toggleable__label sk-toggleable__label-arrow\">LogisticRegression</label><div class=\"sk-toggleable__content\"><pre>LogisticRegression()</pre></div></div></div></div></div>"
      ],
      "text/plain": [
       "LogisticRegression()"
      ]
     },
     "execution_count": 61,
     "metadata": {},
     "output_type": "execute_result"
    }
   ],
   "source": [
    "logreg.fit(X_train, y_train)"
   ]
  },
  {
   "cell_type": "code",
   "execution_count": 62,
   "metadata": {},
   "outputs": [
    {
     "data": {
      "image/png": "[encoded data removed]",
      "text/plain": [
       "<Figure size 640x480 with 2 Axes>"
      ]
     },
     "metadata": {},
     "output_type": "display_data"
    }
   ],
   "source": [
    "y_pred_train = logreg.predict(X_train)\n",
    "\n",
    "cm_train = confusion_matrix(y_train, y_pred_train)\n",
    "\n",
    "disp = ConfusionMatrixDisplay(confusion_matrix=cm_train)\n",
    "\n",
    "disp.plot()\n",
    "plt.show()"
   ]
  },
  {
   "cell_type": "markdown",
   "metadata": {},
   "source": [
    "### Desempenho para conjunto de validação"
   ]
  },
  {
   "cell_type": "code",
   "execution_count": 63,
   "metadata": {},
   "outputs": [
    {
     "data": {
      "image/png": "[encoded data removed]",
      "text/plain": [
       "<Figure size 640x480 with 2 Axes>"
      ]
     },
     "metadata": {},
     "output_type": "display_data"
    }
   ],
   "source": [
    "y_pred_val = logreg.predict(X_val)\n",
    "\n",
    "cm_val = confusion_matrix(y_val, y_pred_val)\n",
    "\n",
    "disp = ConfusionMatrixDisplay(confusion_matrix=cm_val)\n",
    "\n",
    "disp.plot()\n",
    "plt.show()"
   ]
  },
  {
   "cell_type": "code",
   "execution_count": 64,
   "metadata": {},
   "outputs": [
    {
     "name": "stdout",
     "output_type": "stream",
     "text": [
      "              precision    recall  f1-score   support\n",
      "\n",
      "           0       0.70      0.91      0.79      1446\n",
      "           1       0.72      0.36      0.48       887\n",
      "\n",
      "    accuracy                           0.71      2333\n",
      "   macro avg       0.71      0.64      0.64      2333\n",
      "weighted avg       0.71      0.71      0.68      2333\n",
      "\n"
     ]
    }
   ],
   "source": [
    "print(classification_report(y_val, y_pred_val))"
   ]
  },
  {
   "cell_type": "markdown",
   "metadata": {},
   "source": [
    "### Curva de precisão e sensibilidade"
   ]
  },
  {
   "cell_type": "code",
   "execution_count": 65,
   "metadata": {},
   "outputs": [
    {
     "data": {
      "image/png": "[encoded data removed]",
      "text/plain": [
       "<Figure size 640x480 with 1 Axes>"
      ]
     },
     "metadata": {},
     "output_type": "display_data"
    }
   ],
   "source": [
    "display = PrecisionRecallDisplay.from_estimator(logreg, X_val, y_val, name=\"Regressão logística\")\n",
    "\n",
    "display.ax_.set_title(\"Curva PR para regressão logística\")\n",
    "\n",
    "plt.show()"
   ]
  },
  {
   "cell_type": "code",
   "execution_count": 66,
   "metadata": {},
   "outputs": [],
   "source": [
    "def gerar_curva_pr_com_limites(precisions, recalls,thresholds):\n",
    "    plt.plot(thresholds, precisions[:-1], \"b--\", label=\"Precisão\")\n",
    "    plt.plot(thresholds, recalls[:-1], \"g-\", label=\"Recall\")\n",
    "    plt.xlabel(\"limites\")\n",
    "    plt.legend()"
   ]
  },
  {
   "cell_type": "code",
   "execution_count": 67,
   "metadata": {},
   "outputs": [
    {
     "data": {
      "image/png": "[encoded data removed]",
      "text/plain": [
       "<Figure size 640x480 with 1 Axes>"
      ]
     },
     "metadata": {},
     "output_type": "display_data"
    }
   ],
   "source": [
    "y_val_pred_proba = logreg.predict_proba(X_val)[:, 1]\n",
    "\n",
    "precisions, recalls, thresholds = precision_recall_curve(y_val, y_val_pred_proba)\n",
    "\n",
    "gerar_curva_pr_com_limites(precisions, recalls,thresholds)\n",
    "plt.show()"
   ]
  },
  {
   "cell_type": "markdown",
   "metadata": {},
   "source": [
    "## Treinar modelo de Random Forest"
   ]
  },
  {
   "cell_type": "code",
   "execution_count": 68,
   "metadata": {},
   "outputs": [
    {
     "data": {
      "text/html": [
       "<style>#sk-container-id-2 {color: black;background-color: white;}#sk-container-id-2 pre{padding: 0;}#sk-container-id-2 div.sk-toggleable {background-color: white;}#sk-container-id-2 label.sk-toggleable__label {cursor: pointer;display: block;width: 100%;margin-bottom: 0;padding: 0.3em;box-sizing: border-box;text-align: center;}#sk-container-id-2 label.sk-toggleable__label-arrow:before {content: \"▸\";float: left;margin-right: 0.25em;color: #696969;}#sk-container-id-2 label.sk-toggleable__label-arrow:hover:before {color: black;}#sk-container-id-2 div.sk-estimator:hover label.sk-toggleable__label-arrow:before {color: black;}#sk-container-id-2 div.sk-toggleable__content {max-height: 0;max-width: 0;overflow: hidden;text-align: left;background-color: #f0f8ff;}#sk-container-id-2 div.sk-toggleable__content pre {margin: 0.2em;color: black;border-radius: 0.25em;background-color: #f0f8ff;}#sk-container-id-2 input.sk-toggleable__control:checked~div.sk-toggleable__content {max-height: 200px;max-width: 100%;overflow: auto;}#sk-container-id-2 input.sk-toggleable__control:checked~label.sk-toggleable__label-arrow:before {content: \"▾\";}#sk-container-id-2 div.sk-estimator input.sk-toggleable__control:checked~label.sk-toggleable__label {background-color: #d4ebff;}#sk-container-id-2 div.sk-label input.sk-toggleable__control:checked~label.sk-toggleable__label {background-color: #d4ebff;}#sk-container-id-2 input.sk-hidden--visually {border: 0;clip: rect(1px 1px 1px 1px);clip: rect(1px, 1px, 1px, 1px);height: 1px;margin: -1px;overflow: hidden;padding: 0;position: absolute;width: 1px;}#sk-container-id-2 div.sk-estimator {font-family: monospace;background-color: #f0f8ff;border: 1px dotted black;border-radius: 0.25em;box-sizing: border-box;margin-bottom: 0.5em;}#sk-container-id-2 div.sk-estimator:hover {background-color: #d4ebff;}#sk-container-id-2 div.sk-parallel-item::after {content: \"\";width: 100%;border-bottom: 1px solid gray;flex-grow: 1;}#sk-container-id-2 div.sk-label:hover label.sk-toggleable__label {background-color: #d4ebff;}#sk-container-id-2 div.sk-serial::before {content: \"\";position: absolute;border-left: 1px solid gray;box-sizing: border-box;top: 0;bottom: 0;left: 50%;z-index: 0;}#sk-container-id-2 div.sk-serial {display: flex;flex-direction: column;align-items: center;background-color: white;padding-right: 0.2em;padding-left: 0.2em;position: relative;}#sk-container-id-2 div.sk-item {position: relative;z-index: 1;}#sk-container-id-2 div.sk-parallel {display: flex;align-items: stretch;justify-content: center;background-color: white;position: relative;}#sk-container-id-2 div.sk-item::before, #sk-container-id-2 div.sk-parallel-item::before {content: \"\";position: absolute;border-left: 1px solid gray;box-sizing: border-box;top: 0;bottom: 0;left: 50%;z-index: -1;}#sk-container-id-2 div.sk-parallel-item {display: flex;flex-direction: column;z-index: 1;position: relative;background-color: white;}#sk-container-id-2 div.sk-parallel-item:first-child::after {align-self: flex-end;width: 50%;}#sk-container-id-2 div.sk-parallel-item:last-child::after {align-self: flex-start;width: 50%;}#sk-container-id-2 div.sk-parallel-item:only-child::after {width: 0;}#sk-container-id-2 div.sk-dashed-wrapped {border: 1px dashed gray;margin: 0 0.4em 0.5em 0.4em;box-sizing: border-box;padding-bottom: 0.4em;background-color: white;}#sk-container-id-2 div.sk-label label {font-family: monospace;font-weight: bold;display: inline-block;line-height: 1.2em;}#sk-container-id-2 div.sk-label-container {text-align: center;}#sk-container-id-2 div.sk-container {/* jupyter's `normalize.less` sets `[hidden] { display: none; }` but bootstrap.min.css set `[hidden] { display: none !important; }` so we also need the `!important` here to be able to override the default hidden behavior on the sphinx rendered scikit-learn.org. See: https://github.com/scikit-learn/scikit-learn/issues/21755 */display: inline-block !important;position: relative;}#sk-container-id-2 div.sk-text-repr-fallback {display: none;}</style><div id=\"sk-container-id-2\" class=\"sk-top-container\"><div class=\"sk-text-repr-fallback\"><pre>RandomForestClassifier()</pre><b>In a Jupyter environment, please rerun this cell to show the HTML representation or trust the notebook. <br />On GitHub, the HTML representation is unable to render, please try loading this page with nbviewer.org.</b></div><div class=\"sk-container\" hidden><div class=\"sk-item\"><div class=\"sk-estimator sk-toggleable\"><input class=\"sk-toggleable__control sk-hidden--visually\" id=\"sk-estimator-id-2\" type=\"checkbox\" checked><label for=\"sk-estimator-id-2\" class=\"sk-toggleable__label sk-toggleable__label-arrow\">RandomForestClassifier</label><div class=\"sk-toggleable__content\"><pre>RandomForestClassifier()</pre></div></div></div></div></div>"
      ],
      "text/plain": [
       "RandomForestClassifier()"
      ]
     },
     "execution_count": 68,
     "metadata": {},
     "output_type": "execute_result"
    }
   ],
   "source": [
    "random_forest = RandomForestClassifier()\n",
    "\n",
    "random_forest.fit(X_train, y_train)"
   ]
  },
  {
   "cell_type": "code",
   "execution_count": 69,
   "metadata": {},
   "outputs": [
    {
     "data": {
      "image/png": "[encoded data removed]",
      "text/plain": [
       "<Figure size 640x480 with 2 Axes>"
      ]
     },
     "metadata": {},
     "output_type": "display_data"
    }
   ],
   "source": [
    "y_pred_train = random_forest.predict(X_train)\n",
    "\n",
    "cm_train = confusion_matrix(y_train, y_pred_train)\n",
    "\n",
    "disp = ConfusionMatrixDisplay(confusion_matrix=cm_train)\n",
    "\n",
    "disp.plot()\n",
    "plt.show()"
   ]
  },
  {
   "cell_type": "markdown",
   "metadata": {},
   "source": [
    "### Aplicar no conjunto de validação"
   ]
  },
  {
   "cell_type": "code",
   "execution_count": 70,
   "metadata": {},
   "outputs": [
    {
     "data": {
      "image/png": "[encoded data removed]",
      "text/plain": [
       "<Figure size 640x480 with 2 Axes>"
      ]
     },
     "metadata": {},
     "output_type": "display_data"
    }
   ],
   "source": [
    "y_pred_val = random_forest.predict(X_val)\n",
    "\n",
    "cm_val = confusion_matrix(y_val, y_pred_val)\n",
    "\n",
    "disp = ConfusionMatrixDisplay(confusion_matrix=cm_val)\n",
    "\n",
    "disp.plot()\n",
    "plt.show()"
   ]
  },
  {
   "cell_type": "code",
   "execution_count": 71,
   "metadata": {},
   "outputs": [
    {
     "name": "stdout",
     "output_type": "stream",
     "text": [
      "              precision    recall  f1-score   support\n",
      "\n",
      "           0       0.73      0.87      0.79      1446\n",
      "           1       0.68      0.48      0.56       887\n",
      "\n",
      "    accuracy                           0.72      2333\n",
      "   macro avg       0.71      0.67      0.68      2333\n",
      "weighted avg       0.71      0.72      0.70      2333\n",
      "\n"
     ]
    }
   ],
   "source": [
    "print(classification_report(y_val, y_pred_val))"
   ]
  },
  {
   "cell_type": "code",
   "execution_count": 72,
   "metadata": {},
   "outputs": [
    {
     "data": {
      "image/png": "[encoded data removed]",
      "text/plain": [
       "<Figure size 640x480 with 1 Axes>"
      ]
     },
     "metadata": {},
     "output_type": "display_data"
    }
   ],
   "source": [
    "display = PrecisionRecallDisplay.from_estimator(random_forest, X_val, y_val, name=\"Random forest\")\n",
    "\n",
    "display.ax_.set_title(\"Curva PR para random_forest\")\n",
    "\n",
    "plt.show()"
   ]
  },
  {
   "cell_type": "code",
   "execution_count": 73,
   "metadata": {},
   "outputs": [
    {
     "data": {
      "image/png": "[encoded data removed]",
      "text/plain": [
       "<Figure size 640x480 with 1 Axes>"
      ]
     },
     "metadata": {},
     "output_type": "display_data"
    }
   ],
   "source": [
    "y_val_pred_proba = random_forest.predict_proba(X_val)[:, 1]\n",
    "\n",
    "precisions, recalls, thresholds = precision_recall_curve(y_val, y_val_pred_proba)\n",
    "\n",
    "gerar_curva_pr_com_limites(precisions, recalls,thresholds)\n",
    "plt.show()"
   ]
  },
  {
   "cell_type": "markdown",
   "metadata": {},
   "source": [
    "## Aplicar no conjunto de teste"
   ]
  },
  {
   "cell_type": "code",
   "execution_count": 74,
   "metadata": {},
   "outputs": [],
   "source": [
    "features_test = test_data[nomes_features]\n",
    "features_test_sem_faltantes = features_test.fillna(0)\n",
    "\n",
    "alvo_encoded_test = test_data[nome_alvo].map(lambda x: 0 if x == \"Win\" else 1)"
   ]
  },
  {
   "cell_type": "code",
   "execution_count": 75,
   "metadata": {},
   "outputs": [],
   "source": [
    "features_test_encoded = encoder.transform(features_test_sem_faltantes)"
   ]
  },
  {
   "cell_type": "code",
   "execution_count": 76,
   "metadata": {},
   "outputs": [],
   "source": [
    "X_test = features_test_encoded.values\n",
    "\n",
    "y_test = alvo_encoded_test.values"
   ]
  },
  {
   "cell_type": "code",
   "execution_count": 77,
   "metadata": {},
   "outputs": [
    {
     "data": {
      "image/png": "[encoded data removed]",
      "text/plain": [
       "<Figure size 640x480 with 2 Axes>"
      ]
     },
     "metadata": {},
     "output_type": "display_data"
    }
   ],
   "source": [
    "y_pred_test = random_forest.predict(X_test)\n",
    "\n",
    "cm_dev = confusion_matrix(y_test, y_pred_test)\n",
    "\n",
    "disp = ConfusionMatrixDisplay(confusion_matrix=cm_dev)\n",
    "\n",
    "disp.plot()\n",
    "\n",
    "plt.show()"
   ]
  },
  {
   "cell_type": "code",
   "execution_count": 78,
   "metadata": {},
   "outputs": [
    {
     "name": "stdout",
     "output_type": "stream",
     "text": [
      "              precision    recall  f1-score   support\n",
      "\n",
      "           0       0.71      0.83      0.77       292\n",
      "           1       0.55      0.37      0.44       158\n",
      "\n",
      "    accuracy                           0.67       450\n",
      "   macro avg       0.63      0.60      0.61       450\n",
      "weighted avg       0.65      0.67      0.65       450\n",
      "\n"
     ]
    }
   ],
   "source": [
    "print(classification_report(y_test, y_pred_test))"
   ]
  }
 ],
 "metadata": {
  "kernelspec": {
   "display_name": "Python 3.9.10 ('fifa_matches_analysis-WfP819LB')",
   "language": "python",
   "name": "python3"
  },
  "language_info": {
   "codemirror_mode": {
    "name": "ipython",
    "version": 3
   },
   "file_extension": ".py",
   "mimetype": "text/x-python",
   "name": "python",
   "nbconvert_exporter": "python",
   "pygments_lexer": "ipython3",
   "version": "3.9.10"
  },
  "orig_nbformat": 4,
  "vscode": {
   "interpreter": {
    "hash": "8125da653c4e88c083c40c0f0a8322164bebdabccc9e0800287a5ac4cfd4fc50"
   }
  }
 },
 "nbformat": 4,
 "nbformat_minor": 2
}
