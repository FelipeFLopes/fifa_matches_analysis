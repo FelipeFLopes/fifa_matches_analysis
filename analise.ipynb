{
 "cells": [
  {
   "cell_type": "markdown",
   "metadata": {},
   "source": [
    "# Hypotesis\n",
    "\n",
    "* Which team has the best defensive, midfield, and attacking players?\n",
    "* Is there really a home team advantage?\n",
    "* Do teams with more offensive players score more goals? And teams with stronger goalkeepers receive fewer goals?\n",
    "* Which team has the longest winning streak?\n",
    "* Does the best team always win? Can you explain why a weaker team sometimes wins?"
   ]
  },
  {
   "cell_type": "code",
   "execution_count": 1,
   "metadata": {},
   "outputs": [],
   "source": [
    "from itertools import groupby\n",
    "\n",
    "from category_encoders.target_encoder import TargetEncoder\n",
    "import matplotlib.pyplot as plt\n",
    "import numpy as np\n",
    "import pandas as pd\n",
    "from plotnine import ggplot, geom_bar, facet_wrap, aes, geom_point, coord_flip\n",
    "from plotnine.coords import coord_cartesian\n",
    "from scipy.stats import chi2_contingency\n",
    "from statsmodels.stats.weightstats import ztest as ztest\n",
    "from sklearn.ensemble import RandomForestClassifier \n",
    "from sklearn.linear_model import LogisticRegression\n",
    "from sklearn.metrics import confusion_matrix, ConfusionMatrixDisplay, PrecisionRecallDisplay, precision_recall_curve, classification_report\n",
    "from sklearn.model_selection import cross_val_score, train_test_split"
   ]
  },
  {
   "cell_type": "markdown",
   "metadata": {},
   "source": [
    "# EDA"
   ]
  },
  {
   "cell_type": "code",
   "execution_count": 2,
   "metadata": {},
   "outputs": [],
   "source": [
    "data = pd.read_csv(\"international_matches.csv\", parse_dates=[\"date\"])"
   ]
  },
  {
   "cell_type": "code",
   "execution_count": 3,
   "metadata": {},
   "outputs": [
    {
     "data": {
      "text/html": [
       "<div>\n",
       "<style scoped>\n",
       "    .dataframe tbody tr th:only-of-type {\n",
       "        vertical-align: middle;\n",
       "    }\n",
       "\n",
       "    .dataframe tbody tr th {\n",
       "        vertical-align: top;\n",
       "    }\n",
       "\n",
       "    .dataframe thead th {\n",
       "        text-align: right;\n",
       "    }\n",
       "</style>\n",
       "<table border=\"1\" class=\"dataframe\">\n",
       "  <thead>\n",
       "    <tr style=\"text-align: right;\">\n",
       "      <th></th>\n",
       "      <th>date</th>\n",
       "      <th>home_team</th>\n",
       "      <th>away_team</th>\n",
       "      <th>home_team_continent</th>\n",
       "      <th>away_team_continent</th>\n",
       "      <th>home_team_fifa_rank</th>\n",
       "      <th>away_team_fifa_rank</th>\n",
       "      <th>home_team_total_fifa_points</th>\n",
       "      <th>away_team_total_fifa_points</th>\n",
       "      <th>home_team_score</th>\n",
       "      <th>...</th>\n",
       "      <th>shoot_out</th>\n",
       "      <th>home_team_result</th>\n",
       "      <th>home_team_goalkeeper_score</th>\n",
       "      <th>away_team_goalkeeper_score</th>\n",
       "      <th>home_team_mean_defense_score</th>\n",
       "      <th>home_team_mean_offense_score</th>\n",
       "      <th>home_team_mean_midfield_score</th>\n",
       "      <th>away_team_mean_defense_score</th>\n",
       "      <th>away_team_mean_offense_score</th>\n",
       "      <th>away_team_mean_midfield_score</th>\n",
       "    </tr>\n",
       "  </thead>\n",
       "  <tbody>\n",
       "    <tr>\n",
       "      <th>0</th>\n",
       "      <td>1993-08-08</td>\n",
       "      <td>Bolivia</td>\n",
       "      <td>Uruguay</td>\n",
       "      <td>South America</td>\n",
       "      <td>South America</td>\n",
       "      <td>59</td>\n",
       "      <td>22</td>\n",
       "      <td>0</td>\n",
       "      <td>0</td>\n",
       "      <td>3</td>\n",
       "      <td>...</td>\n",
       "      <td>No</td>\n",
       "      <td>Win</td>\n",
       "      <td>NaN</td>\n",
       "      <td>NaN</td>\n",
       "      <td>NaN</td>\n",
       "      <td>NaN</td>\n",
       "      <td>NaN</td>\n",
       "      <td>NaN</td>\n",
       "      <td>NaN</td>\n",
       "      <td>NaN</td>\n",
       "    </tr>\n",
       "    <tr>\n",
       "      <th>1</th>\n",
       "      <td>1993-08-08</td>\n",
       "      <td>Brazil</td>\n",
       "      <td>Mexico</td>\n",
       "      <td>South America</td>\n",
       "      <td>North America</td>\n",
       "      <td>8</td>\n",
       "      <td>14</td>\n",
       "      <td>0</td>\n",
       "      <td>0</td>\n",
       "      <td>1</td>\n",
       "      <td>...</td>\n",
       "      <td>No</td>\n",
       "      <td>Draw</td>\n",
       "      <td>NaN</td>\n",
       "      <td>NaN</td>\n",
       "      <td>NaN</td>\n",
       "      <td>NaN</td>\n",
       "      <td>NaN</td>\n",
       "      <td>NaN</td>\n",
       "      <td>NaN</td>\n",
       "      <td>NaN</td>\n",
       "    </tr>\n",
       "    <tr>\n",
       "      <th>2</th>\n",
       "      <td>1993-08-08</td>\n",
       "      <td>Ecuador</td>\n",
       "      <td>Venezuela</td>\n",
       "      <td>South America</td>\n",
       "      <td>South America</td>\n",
       "      <td>35</td>\n",
       "      <td>94</td>\n",
       "      <td>0</td>\n",
       "      <td>0</td>\n",
       "      <td>5</td>\n",
       "      <td>...</td>\n",
       "      <td>No</td>\n",
       "      <td>Win</td>\n",
       "      <td>NaN</td>\n",
       "      <td>NaN</td>\n",
       "      <td>NaN</td>\n",
       "      <td>NaN</td>\n",
       "      <td>NaN</td>\n",
       "      <td>NaN</td>\n",
       "      <td>NaN</td>\n",
       "      <td>NaN</td>\n",
       "    </tr>\n",
       "    <tr>\n",
       "      <th>3</th>\n",
       "      <td>1993-08-08</td>\n",
       "      <td>Guinea</td>\n",
       "      <td>Sierra Leone</td>\n",
       "      <td>Africa</td>\n",
       "      <td>Africa</td>\n",
       "      <td>65</td>\n",
       "      <td>86</td>\n",
       "      <td>0</td>\n",
       "      <td>0</td>\n",
       "      <td>1</td>\n",
       "      <td>...</td>\n",
       "      <td>No</td>\n",
       "      <td>Win</td>\n",
       "      <td>NaN</td>\n",
       "      <td>NaN</td>\n",
       "      <td>NaN</td>\n",
       "      <td>NaN</td>\n",
       "      <td>NaN</td>\n",
       "      <td>NaN</td>\n",
       "      <td>NaN</td>\n",
       "      <td>NaN</td>\n",
       "    </tr>\n",
       "    <tr>\n",
       "      <th>4</th>\n",
       "      <td>1993-08-08</td>\n",
       "      <td>Paraguay</td>\n",
       "      <td>Argentina</td>\n",
       "      <td>South America</td>\n",
       "      <td>South America</td>\n",
       "      <td>67</td>\n",
       "      <td>5</td>\n",
       "      <td>0</td>\n",
       "      <td>0</td>\n",
       "      <td>1</td>\n",
       "      <td>...</td>\n",
       "      <td>No</td>\n",
       "      <td>Lose</td>\n",
       "      <td>NaN</td>\n",
       "      <td>NaN</td>\n",
       "      <td>NaN</td>\n",
       "      <td>NaN</td>\n",
       "      <td>NaN</td>\n",
       "      <td>NaN</td>\n",
       "      <td>NaN</td>\n",
       "      <td>NaN</td>\n",
       "    </tr>\n",
       "  </tbody>\n",
       "</table>\n",
       "<p>5 rows × 25 columns</p>\n",
       "</div>"
      ],
      "text/plain": [
       "        date home_team     away_team home_team_continent away_team_continent  \\\n",
       "0 1993-08-08   Bolivia       Uruguay       South America       South America   \n",
       "1 1993-08-08    Brazil        Mexico       South America       North America   \n",
       "2 1993-08-08   Ecuador     Venezuela       South America       South America   \n",
       "3 1993-08-08    Guinea  Sierra Leone              Africa              Africa   \n",
       "4 1993-08-08  Paraguay     Argentina       South America       South America   \n",
       "\n",
       "   home_team_fifa_rank  away_team_fifa_rank  home_team_total_fifa_points  \\\n",
       "0                   59                   22                            0   \n",
       "1                    8                   14                            0   \n",
       "2                   35                   94                            0   \n",
       "3                   65                   86                            0   \n",
       "4                   67                    5                            0   \n",
       "\n",
       "   away_team_total_fifa_points  home_team_score  ...  shoot_out  \\\n",
       "0                            0                3  ...         No   \n",
       "1                            0                1  ...         No   \n",
       "2                            0                5  ...         No   \n",
       "3                            0                1  ...         No   \n",
       "4                            0                1  ...         No   \n",
       "\n",
       "  home_team_result home_team_goalkeeper_score away_team_goalkeeper_score  \\\n",
       "0              Win                        NaN                        NaN   \n",
       "1             Draw                        NaN                        NaN   \n",
       "2              Win                        NaN                        NaN   \n",
       "3              Win                        NaN                        NaN   \n",
       "4             Lose                        NaN                        NaN   \n",
       "\n",
       "   home_team_mean_defense_score home_team_mean_offense_score  \\\n",
       "0                           NaN                          NaN   \n",
       "1                           NaN                          NaN   \n",
       "2                           NaN                          NaN   \n",
       "3                           NaN                          NaN   \n",
       "4                           NaN                          NaN   \n",
       "\n",
       "  home_team_mean_midfield_score  away_team_mean_defense_score  \\\n",
       "0                           NaN                           NaN   \n",
       "1                           NaN                           NaN   \n",
       "2                           NaN                           NaN   \n",
       "3                           NaN                           NaN   \n",
       "4                           NaN                           NaN   \n",
       "\n",
       "   away_team_mean_offense_score  away_team_mean_midfield_score  \n",
       "0                           NaN                            NaN  \n",
       "1                           NaN                            NaN  \n",
       "2                           NaN                            NaN  \n",
       "3                           NaN                            NaN  \n",
       "4                           NaN                            NaN  \n",
       "\n",
       "[5 rows x 25 columns]"
      ]
     },
     "execution_count": 3,
     "metadata": {},
     "output_type": "execute_result"
    }
   ],
   "source": [
    "data.head()"
   ]
  },
  {
   "cell_type": "code",
   "execution_count": 4,
   "metadata": {},
   "outputs": [
    {
     "data": {
      "text/plain": [
       "date                                 0\n",
       "home_team                            0\n",
       "away_team                            0\n",
       "home_team_continent                  0\n",
       "away_team_continent                  0\n",
       "home_team_fifa_rank                  0\n",
       "away_team_fifa_rank                  0\n",
       "home_team_total_fifa_points          0\n",
       "away_team_total_fifa_points          0\n",
       "home_team_score                      0\n",
       "away_team_score                      0\n",
       "tournament                           0\n",
       "city                                 0\n",
       "country                              0\n",
       "neutral_location                     0\n",
       "shoot_out                            0\n",
       "home_team_result                     0\n",
       "home_team_goalkeeper_score       15542\n",
       "away_team_goalkeeper_score       15826\n",
       "home_team_mean_defense_score     16134\n",
       "home_team_mean_offense_score     15411\n",
       "home_team_mean_midfield_score    15759\n",
       "away_team_mean_defense_score     16357\n",
       "away_team_mean_offense_score     15609\n",
       "away_team_mean_midfield_score    15942\n",
       "dtype: int64"
      ]
     },
     "execution_count": 4,
     "metadata": {},
     "output_type": "execute_result"
    }
   ],
   "source": [
    "data.isna().sum()"
   ]
  },
  {
   "cell_type": "markdown",
   "metadata": {},
   "source": [
    "# Identificar a partir de quando temos dados de pontuação das seções dos times"
   ]
  },
  {
   "cell_type": "code",
   "execution_count": 5,
   "metadata": {},
   "outputs": [],
   "source": [
    "nomes_pontuacoes = [\n",
    "    \"home_team_goalkeeper_score\",\n",
    "    \"away_team_goalkeeper_score\",\n",
    "    \"home_team_mean_defense_score\",\n",
    "    \"home_team_mean_offense_score\",\n",
    "    \"home_team_mean_midfield_score\",\n",
    "    \"away_team_mean_defense_score\",\n",
    "    \"away_team_mean_offense_score\",\n",
    "    \"away_team_mean_midfield_score\",\n",
    "]\n",
    "\n",
    "columns_has_score = ~data[nomes_pontuacoes].isna()\n",
    "\n",
    "any_score = columns_has_score.any(axis=1)\n"
   ]
  },
  {
   "cell_type": "code",
   "execution_count": 6,
   "metadata": {},
   "outputs": [],
   "source": [
    "elemento_mais_antigo_contem_pontuacao = data[any_score].index.min()\n",
    "elemento_mais_recente_contem_pontuacao = data[any_score].index.max()"
   ]
  },
  {
   "cell_type": "markdown",
   "metadata": {},
   "source": [
    "## Partida mais antiga em que foi feita pontuação das seções dos times"
   ]
  },
  {
   "cell_type": "code",
   "execution_count": 7,
   "metadata": {},
   "outputs": [
    {
     "data": {
      "text/html": [
       "<div>\n",
       "<style scoped>\n",
       "    .dataframe tbody tr th:only-of-type {\n",
       "        vertical-align: middle;\n",
       "    }\n",
       "\n",
       "    .dataframe tbody tr th {\n",
       "        vertical-align: top;\n",
       "    }\n",
       "\n",
       "    .dataframe thead th {\n",
       "        text-align: right;\n",
       "    }\n",
       "</style>\n",
       "<table border=\"1\" class=\"dataframe\">\n",
       "  <thead>\n",
       "    <tr style=\"text-align: right;\">\n",
       "      <th></th>\n",
       "      <th>date</th>\n",
       "      <th>home_team</th>\n",
       "      <th>away_team</th>\n",
       "      <th>home_team_continent</th>\n",
       "      <th>away_team_continent</th>\n",
       "      <th>home_team_fifa_rank</th>\n",
       "      <th>away_team_fifa_rank</th>\n",
       "      <th>home_team_total_fifa_points</th>\n",
       "      <th>away_team_total_fifa_points</th>\n",
       "      <th>home_team_score</th>\n",
       "      <th>...</th>\n",
       "      <th>shoot_out</th>\n",
       "      <th>home_team_result</th>\n",
       "      <th>home_team_goalkeeper_score</th>\n",
       "      <th>away_team_goalkeeper_score</th>\n",
       "      <th>home_team_mean_defense_score</th>\n",
       "      <th>home_team_mean_offense_score</th>\n",
       "      <th>home_team_mean_midfield_score</th>\n",
       "      <th>away_team_mean_defense_score</th>\n",
       "      <th>away_team_mean_offense_score</th>\n",
       "      <th>away_team_mean_midfield_score</th>\n",
       "    </tr>\n",
       "  </thead>\n",
       "  <tbody>\n",
       "    <tr>\n",
       "      <th>8262</th>\n",
       "      <td>2004-09-03</td>\n",
       "      <td>Maldives</td>\n",
       "      <td>Oman</td>\n",
       "      <td>Africa</td>\n",
       "      <td>Asia</td>\n",
       "      <td>142</td>\n",
       "      <td>50</td>\n",
       "      <td>0</td>\n",
       "      <td>0</td>\n",
       "      <td>1</td>\n",
       "      <td>...</td>\n",
       "      <td>No</td>\n",
       "      <td>Lose</td>\n",
       "      <td>NaN</td>\n",
       "      <td>70.0</td>\n",
       "      <td>NaN</td>\n",
       "      <td>NaN</td>\n",
       "      <td>NaN</td>\n",
       "      <td>NaN</td>\n",
       "      <td>NaN</td>\n",
       "      <td>NaN</td>\n",
       "    </tr>\n",
       "  </tbody>\n",
       "</table>\n",
       "<p>1 rows × 25 columns</p>\n",
       "</div>"
      ],
      "text/plain": [
       "           date home_team away_team home_team_continent away_team_continent  \\\n",
       "8262 2004-09-03  Maldives      Oman              Africa                Asia   \n",
       "\n",
       "      home_team_fifa_rank  away_team_fifa_rank  home_team_total_fifa_points  \\\n",
       "8262                  142                   50                            0   \n",
       "\n",
       "      away_team_total_fifa_points  home_team_score  ...  shoot_out  \\\n",
       "8262                            0                1  ...         No   \n",
       "\n",
       "     home_team_result home_team_goalkeeper_score away_team_goalkeeper_score  \\\n",
       "8262             Lose                        NaN                       70.0   \n",
       "\n",
       "      home_team_mean_defense_score home_team_mean_offense_score  \\\n",
       "8262                           NaN                          NaN   \n",
       "\n",
       "     home_team_mean_midfield_score  away_team_mean_defense_score  \\\n",
       "8262                           NaN                           NaN   \n",
       "\n",
       "      away_team_mean_offense_score  away_team_mean_midfield_score  \n",
       "8262                           NaN                            NaN  \n",
       "\n",
       "[1 rows x 25 columns]"
      ]
     },
     "execution_count": 7,
     "metadata": {},
     "output_type": "execute_result"
    }
   ],
   "source": [
    "data.iloc[[elemento_mais_antigo_contem_pontuacao]]"
   ]
  },
  {
   "cell_type": "markdown",
   "metadata": {},
   "source": [
    "## Partida mais recente em que foi feita pontuação das seções dos times"
   ]
  },
  {
   "cell_type": "code",
   "execution_count": 8,
   "metadata": {},
   "outputs": [
    {
     "data": {
      "text/html": [
       "<div>\n",
       "<style scoped>\n",
       "    .dataframe tbody tr th:only-of-type {\n",
       "        vertical-align: middle;\n",
       "    }\n",
       "\n",
       "    .dataframe tbody tr th {\n",
       "        vertical-align: top;\n",
       "    }\n",
       "\n",
       "    .dataframe thead th {\n",
       "        text-align: right;\n",
       "    }\n",
       "</style>\n",
       "<table border=\"1\" class=\"dataframe\">\n",
       "  <thead>\n",
       "    <tr style=\"text-align: right;\">\n",
       "      <th></th>\n",
       "      <th>date</th>\n",
       "      <th>home_team</th>\n",
       "      <th>away_team</th>\n",
       "      <th>home_team_continent</th>\n",
       "      <th>away_team_continent</th>\n",
       "      <th>home_team_fifa_rank</th>\n",
       "      <th>away_team_fifa_rank</th>\n",
       "      <th>home_team_total_fifa_points</th>\n",
       "      <th>away_team_total_fifa_points</th>\n",
       "      <th>home_team_score</th>\n",
       "      <th>...</th>\n",
       "      <th>shoot_out</th>\n",
       "      <th>home_team_result</th>\n",
       "      <th>home_team_goalkeeper_score</th>\n",
       "      <th>away_team_goalkeeper_score</th>\n",
       "      <th>home_team_mean_defense_score</th>\n",
       "      <th>home_team_mean_offense_score</th>\n",
       "      <th>home_team_mean_midfield_score</th>\n",
       "      <th>away_team_mean_defense_score</th>\n",
       "      <th>away_team_mean_offense_score</th>\n",
       "      <th>away_team_mean_midfield_score</th>\n",
       "    </tr>\n",
       "  </thead>\n",
       "  <tbody>\n",
       "    <tr>\n",
       "      <th>23920</th>\n",
       "      <td>2022-06-14</td>\n",
       "      <td>Korea Republic</td>\n",
       "      <td>Egypt</td>\n",
       "      <td>Asia</td>\n",
       "      <td>Africa</td>\n",
       "      <td>29</td>\n",
       "      <td>32</td>\n",
       "      <td>1519</td>\n",
       "      <td>1500</td>\n",
       "      <td>4</td>\n",
       "      <td>...</td>\n",
       "      <td>No</td>\n",
       "      <td>Win</td>\n",
       "      <td>75.0</td>\n",
       "      <td>NaN</td>\n",
       "      <td>73.0</td>\n",
       "      <td>80.0</td>\n",
       "      <td>73.8</td>\n",
       "      <td>NaN</td>\n",
       "      <td>79.3</td>\n",
       "      <td>70.8</td>\n",
       "    </tr>\n",
       "  </tbody>\n",
       "</table>\n",
       "<p>1 rows × 25 columns</p>\n",
       "</div>"
      ],
      "text/plain": [
       "            date       home_team away_team home_team_continent  \\\n",
       "23920 2022-06-14  Korea Republic     Egypt                Asia   \n",
       "\n",
       "      away_team_continent  home_team_fifa_rank  away_team_fifa_rank  \\\n",
       "23920              Africa                   29                   32   \n",
       "\n",
       "       home_team_total_fifa_points  away_team_total_fifa_points  \\\n",
       "23920                         1519                         1500   \n",
       "\n",
       "       home_team_score  ...  shoot_out home_team_result  \\\n",
       "23920                4  ...         No              Win   \n",
       "\n",
       "      home_team_goalkeeper_score away_team_goalkeeper_score  \\\n",
       "23920                       75.0                        NaN   \n",
       "\n",
       "       home_team_mean_defense_score home_team_mean_offense_score  \\\n",
       "23920                          73.0                         80.0   \n",
       "\n",
       "      home_team_mean_midfield_score  away_team_mean_defense_score  \\\n",
       "23920                          73.8                           NaN   \n",
       "\n",
       "       away_team_mean_offense_score  away_team_mean_midfield_score  \n",
       "23920                          79.3                           70.8  \n",
       "\n",
       "[1 rows x 25 columns]"
      ]
     },
     "execution_count": 8,
     "metadata": {},
     "output_type": "execute_result"
    }
   ],
   "source": [
    "data.iloc[[elemento_mais_recente_contem_pontuacao]]"
   ]
  },
  {
   "cell_type": "markdown",
   "metadata": {},
   "source": [
    "# Qual time tem os melhores jogadores de defesa, meio-campo e ataque?"
   ]
  },
  {
   "cell_type": "code",
   "execution_count": 9,
   "metadata": {},
   "outputs": [],
   "source": [
    "colunas_time_casa = [\n",
    "    \"date\",\n",
    "    \"home_team\",\n",
    "    \"home_team_fifa_rank\",\n",
    "    \"home_team_total_fifa_points\",\n",
    "    \"home_team_score\",\n",
    "    \"home_team_goalkeeper_score\",\n",
    "    \"home_team_mean_defense_score\",\n",
    "    \"home_team_mean_offense_score\",\n",
    "    \"home_team_mean_midfield_score\",\n",
    "]\n",
    "\n",
    "colunas_time_visitante = [\n",
    "    \"date\",\n",
    "    \"away_team\",\n",
    "    \"away_team_fifa_rank\",\n",
    "    \"away_team_total_fifa_points\",\n",
    "    \"away_team_score\",\n",
    "    \"away_team_goalkeeper_score\",\n",
    "    \"away_team_mean_defense_score\",\n",
    "    \"away_team_mean_offense_score\",\n",
    "    \"away_team_mean_midfield_score\",\n",
    "]\n",
    "\n",
    "partidas_com_pontuacao = data.iloc[\n",
    "    elemento_mais_antigo_contem_pontuacao:elemento_mais_recente_contem_pontuacao\n",
    "]\n",
    "\n",
    "dados_time_casa = partidas_com_pontuacao[colunas_time_casa]\n",
    "dados_time_visitante = partidas_com_pontuacao[colunas_time_visitante]\n",
    "\n",
    "dados_time_casa_renomeado = dados_time_casa.rename(\n",
    "    mapper=lambda x: x.replace(\"home_team_\", \"\"), axis=1\n",
    ")\n",
    "dados_time_casa_renomeado = dados_time_casa_renomeado.rename(\n",
    "    mapper=lambda x: x.replace(\"home_team\", \"team\"), axis=1\n",
    ")\n",
    "\n",
    "dados_time_visitante_renomeado = dados_time_visitante.rename(\n",
    "    mapper=lambda x: x.replace(\"away_team_\", \"\"), axis=1\n",
    ")\n",
    "dados_time_visitante_renomeado = dados_time_visitante_renomeado.rename(\n",
    "    mapper=lambda x: x.replace(\"away_team\", \"team\"), axis=1\n",
    ")\n",
    "\n",
    "\n",
    "pontuacao_paises = pd.concat(\n",
    "    [dados_time_casa_renomeado, dados_time_visitante_renomeado], axis=0\n",
    ")\n"
   ]
  },
  {
   "cell_type": "code",
   "execution_count": 10,
   "metadata": {},
   "outputs": [],
   "source": [
    "pontuacao_paises[\"ano\"] = pontuacao_paises[\"date\"].dt.year"
   ]
  },
  {
   "cell_type": "markdown",
   "metadata": {},
   "source": [
    "## Pontuação dos times muda durante o ano?"
   ]
  },
  {
   "cell_type": "code",
   "execution_count": 11,
   "metadata": {},
   "outputs": [],
   "source": [
    "nomes_pontuacoes = [\n",
    "    \"mean_defense_score\",\n",
    "    \"mean_offense_score\",\n",
    "    \"mean_midfield_score\",\n",
    "    \"goalkeeper_score\",\n",
    "]\n",
    "\n",
    "var_pontuacao = pontuacao_paises.groupby([\"ano\", \"team\"])[\n",
    "    nomes_pontuacoes\n",
    "].var()\n"
   ]
  },
  {
   "cell_type": "code",
   "execution_count": 12,
   "metadata": {},
   "outputs": [
    {
     "name": "stdout",
     "output_type": "stream",
     "text": [
      "mean_defense_score     True\n",
      "mean_offense_score     True\n",
      "mean_midfield_score    True\n",
      "goalkeeper_score       True\n",
      "dtype: bool\n"
     ]
    }
   ],
   "source": [
    "pontuacoes_variam_no_ano = var_pontuacao.apply(lambda x: x>0)\n",
    "\n",
    "print(pontuacoes_variam_no_ano.any())"
   ]
  },
  {
   "cell_type": "code",
   "execution_count": 13,
   "metadata": {},
   "outputs": [
    {
     "data": {
      "text/html": [
       "<div>\n",
       "<style scoped>\n",
       "    .dataframe tbody tr th:only-of-type {\n",
       "        vertical-align: middle;\n",
       "    }\n",
       "\n",
       "    .dataframe tbody tr th {\n",
       "        vertical-align: top;\n",
       "    }\n",
       "\n",
       "    .dataframe thead th {\n",
       "        text-align: right;\n",
       "    }\n",
       "</style>\n",
       "<table border=\"1\" class=\"dataframe\">\n",
       "  <thead>\n",
       "    <tr style=\"text-align: right;\">\n",
       "      <th></th>\n",
       "      <th></th>\n",
       "      <th>mean_defense_score</th>\n",
       "      <th>mean_offense_score</th>\n",
       "      <th>mean_midfield_score</th>\n",
       "      <th>goalkeeper_score</th>\n",
       "    </tr>\n",
       "    <tr>\n",
       "      <th>ano</th>\n",
       "      <th>team</th>\n",
       "      <th></th>\n",
       "      <th></th>\n",
       "      <th></th>\n",
       "      <th></th>\n",
       "    </tr>\n",
       "  </thead>\n",
       "  <tbody>\n",
       "    <tr>\n",
       "      <th rowspan=\"5\" valign=\"top\">2005</th>\n",
       "      <th>Albania</th>\n",
       "      <td>NaN</td>\n",
       "      <td>4.314333</td>\n",
       "      <td>0.058333</td>\n",
       "      <td>NaN</td>\n",
       "    </tr>\n",
       "    <tr>\n",
       "      <th>Albania</th>\n",
       "      <td>NaN</td>\n",
       "      <td>4.314333</td>\n",
       "      <td>0.058333</td>\n",
       "      <td>NaN</td>\n",
       "    </tr>\n",
       "    <tr>\n",
       "      <th>Algeria</th>\n",
       "      <td>0.0000</td>\n",
       "      <td>0.402381</td>\n",
       "      <td>0.952381</td>\n",
       "      <td>0.0000</td>\n",
       "    </tr>\n",
       "    <tr>\n",
       "      <th>Algeria</th>\n",
       "      <td>0.0000</td>\n",
       "      <td>0.402381</td>\n",
       "      <td>0.952381</td>\n",
       "      <td>0.0000</td>\n",
       "    </tr>\n",
       "    <tr>\n",
       "      <th>Angola</th>\n",
       "      <td>0.0000</td>\n",
       "      <td>0.818182</td>\n",
       "      <td>NaN</td>\n",
       "      <td>0.0000</td>\n",
       "    </tr>\n",
       "    <tr>\n",
       "      <th>...</th>\n",
       "      <th>...</th>\n",
       "      <td>...</td>\n",
       "      <td>...</td>\n",
       "      <td>...</td>\n",
       "      <td>...</td>\n",
       "    </tr>\n",
       "    <tr>\n",
       "      <th rowspan=\"5\" valign=\"top\">2021</th>\n",
       "      <th>Wales</th>\n",
       "      <td>0.0105</td>\n",
       "      <td>2.362500</td>\n",
       "      <td>0.443625</td>\n",
       "      <td>0.2625</td>\n",
       "    </tr>\n",
       "    <tr>\n",
       "      <th>Wales</th>\n",
       "      <td>0.0105</td>\n",
       "      <td>2.362500</td>\n",
       "      <td>0.443625</td>\n",
       "      <td>0.2625</td>\n",
       "    </tr>\n",
       "    <tr>\n",
       "      <th>Wales</th>\n",
       "      <td>0.0105</td>\n",
       "      <td>2.362500</td>\n",
       "      <td>0.443625</td>\n",
       "      <td>0.2625</td>\n",
       "    </tr>\n",
       "    <tr>\n",
       "      <th>Zambia</th>\n",
       "      <td>NaN</td>\n",
       "      <td>0.504000</td>\n",
       "      <td>NaN</td>\n",
       "      <td>NaN</td>\n",
       "    </tr>\n",
       "    <tr>\n",
       "      <th>Zimbabwe</th>\n",
       "      <td>0.0000</td>\n",
       "      <td>5.770909</td>\n",
       "      <td>0.000000</td>\n",
       "      <td>NaN</td>\n",
       "    </tr>\n",
       "  </tbody>\n",
       "</table>\n",
       "<p>4347 rows × 4 columns</p>\n",
       "</div>"
      ],
      "text/plain": [
       "               mean_defense_score  mean_offense_score  mean_midfield_score  \\\n",
       "ano  team                                                                    \n",
       "2005 Albania                  NaN            4.314333             0.058333   \n",
       "     Albania                  NaN            4.314333             0.058333   \n",
       "     Algeria               0.0000            0.402381             0.952381   \n",
       "     Algeria               0.0000            0.402381             0.952381   \n",
       "     Angola                0.0000            0.818182                  NaN   \n",
       "...                           ...                 ...                  ...   \n",
       "2021 Wales                 0.0105            2.362500             0.443625   \n",
       "     Wales                 0.0105            2.362500             0.443625   \n",
       "     Wales                 0.0105            2.362500             0.443625   \n",
       "     Zambia                   NaN            0.504000                  NaN   \n",
       "     Zimbabwe              0.0000            5.770909             0.000000   \n",
       "\n",
       "               goalkeeper_score  \n",
       "ano  team                        \n",
       "2005 Albania                NaN  \n",
       "     Albania                NaN  \n",
       "     Algeria             0.0000  \n",
       "     Algeria             0.0000  \n",
       "     Angola              0.0000  \n",
       "...                         ...  \n",
       "2021 Wales               0.2625  \n",
       "     Wales               0.2625  \n",
       "     Wales               0.2625  \n",
       "     Zambia                 NaN  \n",
       "     Zimbabwe               NaN  \n",
       "\n",
       "[4347 rows x 4 columns]"
      ]
     },
     "execution_count": 13,
     "metadata": {},
     "output_type": "execute_result"
    }
   ],
   "source": [
    "var_pontuacao[pontuacoes_variam_no_ano.values]"
   ]
  },
  {
   "cell_type": "markdown",
   "metadata": {},
   "source": [
    "## Média das pontuações por sessão"
   ]
  },
  {
   "cell_type": "code",
   "execution_count": 14,
   "metadata": {},
   "outputs": [
    {
     "data": {
      "text/plain": [
       "ano   team      \n",
       "2004  Italy         91.800000\n",
       "2005  Italy         91.000000\n",
       "2004  England       90.500000\n",
       "2005  England       90.045455\n",
       "2006  Italy         89.450000\n",
       "                      ...    \n",
       "2022  Uzbekistan          NaN\n",
       "      Vanuatu             NaN\n",
       "      Vietnam             NaN\n",
       "      Yemen               NaN\n",
       "      Zambia              NaN\n",
       "Name: mean_defense_score, Length: 3550, dtype: float64"
      ]
     },
     "execution_count": 14,
     "metadata": {},
     "output_type": "execute_result"
    }
   ],
   "source": [
    "media_defesa_pais_ano = pontuacao_paises.groupby([\"ano\", \"team\"])[\n",
    "    \"mean_defense_score\"\n",
    "].mean()\n",
    "media_defesa_pais_ano.sort_values(ascending=False)\n"
   ]
  },
  {
   "cell_type": "code",
   "execution_count": 15,
   "metadata": {},
   "outputs": [
    {
     "data": {
      "text/plain": [
       "ano   team             \n",
       "2004  Netherlands          93.0\n",
       "      France               93.0\n",
       "2005  Brazil               92.4\n",
       "2004  Italy                92.3\n",
       "      Brazil               92.3\n",
       "                           ... \n",
       "2022  US Virgin Islands     NaN\n",
       "      Uzbekistan            NaN\n",
       "      Vanuatu               NaN\n",
       "      Vietnam               NaN\n",
       "      Yemen                 NaN\n",
       "Name: mean_offense_score, Length: 3550, dtype: float64"
      ]
     },
     "execution_count": 15,
     "metadata": {},
     "output_type": "execute_result"
    }
   ],
   "source": [
    "media_ataque_pais_ano = pontuacao_paises.groupby([\"ano\", \"team\"])[\n",
    "    \"mean_offense_score\"\n",
    "].mean()\n",
    "media_ataque_pais_ano.sort_values(ascending=False)\n"
   ]
  },
  {
   "cell_type": "code",
   "execution_count": 16,
   "metadata": {},
   "outputs": [
    {
     "data": {
      "text/plain": [
       "ano   team    \n",
       "2004  France      93.200000\n",
       "      England     91.200000\n",
       "2005  France      90.909091\n",
       "2006  Brazil      90.500000\n",
       "2005  Brazil      90.350000\n",
       "                    ...    \n",
       "2022  Vanuatu           NaN\n",
       "      Vietnam           NaN\n",
       "      Yemen             NaN\n",
       "      Zambia            NaN\n",
       "      Zimbabwe          NaN\n",
       "Name: mean_midfield_score, Length: 3550, dtype: float64"
      ]
     },
     "execution_count": 16,
     "metadata": {},
     "output_type": "execute_result"
    }
   ],
   "source": [
    "media_meio_campo_pais_ano = pontuacao_paises.groupby([\"ano\", \"team\"])[\n",
    "    \"mean_midfield_score\"\n",
    "].mean()\n",
    "media_meio_campo_pais_ano.sort_values(ascending=False)\n"
   ]
  },
  {
   "cell_type": "code",
   "execution_count": 17,
   "metadata": {},
   "outputs": [
    {
     "data": {
      "text/plain": [
       "ano   team      \n",
       "2004  Italy         97.000\n",
       "2005  Italy         96.000\n",
       "      Spain         94.500\n",
       "2006  Italy         94.375\n",
       "2004  Spain         94.000\n",
       "                     ...  \n",
       "2022  Uzbekistan       NaN\n",
       "      Vanuatu          NaN\n",
       "      Yemen            NaN\n",
       "      Zambia           NaN\n",
       "      Zimbabwe         NaN\n",
       "Name: goalkeeper_score, Length: 3550, dtype: float64"
      ]
     },
     "execution_count": 17,
     "metadata": {},
     "output_type": "execute_result"
    }
   ],
   "source": [
    "media_goleiro_pais_ano = pontuacao_paises.groupby([\"ano\", \"team\"])[\n",
    "    \"goalkeeper_score\"\n",
    "].mean()\n",
    "media_goleiro_pais_ano.sort_values(ascending=False)\n"
   ]
  },
  {
   "cell_type": "markdown",
   "metadata": {},
   "source": [
    "# Existe realmente uma vantagem do time da casa?"
   ]
  },
  {
   "cell_type": "code",
   "execution_count": 18,
   "metadata": {},
   "outputs": [],
   "source": [
    "resultado = data[\n",
    "    [\n",
    "        \"date\",\n",
    "        \"home_team\",\n",
    "        \"home_team_result\",\n",
    "        \"neutral_location\",\n",
    "        \"country\",\n",
    "    ]\n",
    "]\n"
   ]
  },
  {
   "cell_type": "code",
   "execution_count": 19,
   "metadata": {},
   "outputs": [
    {
     "name": "stderr",
     "output_type": "stream",
     "text": [
      "/tmp/ipykernel_8732/2506403630.py:1: SettingWithCopyWarning: \n",
      "A value is trying to be set on a copy of a slice from a DataFrame.\n",
      "Try using .loc[row_indexer,col_indexer] = value instead\n",
      "\n",
      "See the caveats in the documentation: https://pandas.pydata.org/pandas-docs/stable/user_guide/indexing.html#returning-a-view-versus-a-copy\n"
     ]
    }
   ],
   "source": [
    "resultado[\"time_casa_em_casa\"] = (\n",
    "    resultado[\"home_team\"].values == resultado[\"country\"].values\n",
    ")"
   ]
  },
  {
   "cell_type": "code",
   "execution_count": 20,
   "metadata": {},
   "outputs": [
    {
     "data": {
      "text/html": [
       "<div>\n",
       "<style scoped>\n",
       "    .dataframe tbody tr th:only-of-type {\n",
       "        vertical-align: middle;\n",
       "    }\n",
       "\n",
       "    .dataframe tbody tr th {\n",
       "        vertical-align: top;\n",
       "    }\n",
       "\n",
       "    .dataframe thead th {\n",
       "        text-align: right;\n",
       "    }\n",
       "</style>\n",
       "<table border=\"1\" class=\"dataframe\">\n",
       "  <thead>\n",
       "    <tr style=\"text-align: right;\">\n",
       "      <th></th>\n",
       "      <th>date</th>\n",
       "      <th>home_team</th>\n",
       "      <th>home_team_result</th>\n",
       "      <th>neutral_location</th>\n",
       "      <th>country</th>\n",
       "      <th>time_casa_em_casa</th>\n",
       "    </tr>\n",
       "  </thead>\n",
       "  <tbody>\n",
       "    <tr>\n",
       "      <th>0</th>\n",
       "      <td>1993-08-08</td>\n",
       "      <td>Bolivia</td>\n",
       "      <td>Win</td>\n",
       "      <td>False</td>\n",
       "      <td>Bolivia</td>\n",
       "      <td>True</td>\n",
       "    </tr>\n",
       "    <tr>\n",
       "      <th>1</th>\n",
       "      <td>1993-08-08</td>\n",
       "      <td>Brazil</td>\n",
       "      <td>Draw</td>\n",
       "      <td>False</td>\n",
       "      <td>Brazil</td>\n",
       "      <td>True</td>\n",
       "    </tr>\n",
       "    <tr>\n",
       "      <th>2</th>\n",
       "      <td>1993-08-08</td>\n",
       "      <td>Ecuador</td>\n",
       "      <td>Win</td>\n",
       "      <td>False</td>\n",
       "      <td>Ecuador</td>\n",
       "      <td>True</td>\n",
       "    </tr>\n",
       "    <tr>\n",
       "      <th>3</th>\n",
       "      <td>1993-08-08</td>\n",
       "      <td>Guinea</td>\n",
       "      <td>Win</td>\n",
       "      <td>False</td>\n",
       "      <td>Guinea</td>\n",
       "      <td>True</td>\n",
       "    </tr>\n",
       "    <tr>\n",
       "      <th>4</th>\n",
       "      <td>1993-08-08</td>\n",
       "      <td>Paraguay</td>\n",
       "      <td>Lose</td>\n",
       "      <td>False</td>\n",
       "      <td>Paraguay</td>\n",
       "      <td>True</td>\n",
       "    </tr>\n",
       "    <tr>\n",
       "      <th>...</th>\n",
       "      <td>...</td>\n",
       "      <td>...</td>\n",
       "      <td>...</td>\n",
       "      <td>...</td>\n",
       "      <td>...</td>\n",
       "      <td>...</td>\n",
       "    </tr>\n",
       "    <tr>\n",
       "      <th>23916</th>\n",
       "      <td>2022-06-14</td>\n",
       "      <td>Moldova</td>\n",
       "      <td>Win</td>\n",
       "      <td>False</td>\n",
       "      <td>Moldova</td>\n",
       "      <td>True</td>\n",
       "    </tr>\n",
       "    <tr>\n",
       "      <th>23917</th>\n",
       "      <td>2022-06-14</td>\n",
       "      <td>Liechtenstein</td>\n",
       "      <td>Lose</td>\n",
       "      <td>False</td>\n",
       "      <td>Liechtenstein</td>\n",
       "      <td>True</td>\n",
       "    </tr>\n",
       "    <tr>\n",
       "      <th>23918</th>\n",
       "      <td>2022-06-14</td>\n",
       "      <td>Chile</td>\n",
       "      <td>Lose</td>\n",
       "      <td>True</td>\n",
       "      <td>Japan</td>\n",
       "      <td>False</td>\n",
       "    </tr>\n",
       "    <tr>\n",
       "      <th>23919</th>\n",
       "      <td>2022-06-14</td>\n",
       "      <td>Japan</td>\n",
       "      <td>Lose</td>\n",
       "      <td>False</td>\n",
       "      <td>Japan</td>\n",
       "      <td>True</td>\n",
       "    </tr>\n",
       "    <tr>\n",
       "      <th>23920</th>\n",
       "      <td>2022-06-14</td>\n",
       "      <td>Korea Republic</td>\n",
       "      <td>Win</td>\n",
       "      <td>False</td>\n",
       "      <td>Korea Republic</td>\n",
       "      <td>True</td>\n",
       "    </tr>\n",
       "  </tbody>\n",
       "</table>\n",
       "<p>23921 rows × 6 columns</p>\n",
       "</div>"
      ],
      "text/plain": [
       "            date       home_team home_team_result  neutral_location  \\\n",
       "0     1993-08-08         Bolivia              Win             False   \n",
       "1     1993-08-08          Brazil             Draw             False   \n",
       "2     1993-08-08         Ecuador              Win             False   \n",
       "3     1993-08-08          Guinea              Win             False   \n",
       "4     1993-08-08        Paraguay             Lose             False   \n",
       "...          ...             ...              ...               ...   \n",
       "23916 2022-06-14         Moldova              Win             False   \n",
       "23917 2022-06-14   Liechtenstein             Lose             False   \n",
       "23918 2022-06-14           Chile             Lose              True   \n",
       "23919 2022-06-14           Japan             Lose             False   \n",
       "23920 2022-06-14  Korea Republic              Win             False   \n",
       "\n",
       "              country  time_casa_em_casa  \n",
       "0             Bolivia               True  \n",
       "1              Brazil               True  \n",
       "2             Ecuador               True  \n",
       "3              Guinea               True  \n",
       "4            Paraguay               True  \n",
       "...               ...                ...  \n",
       "23916         Moldova               True  \n",
       "23917   Liechtenstein               True  \n",
       "23918           Japan              False  \n",
       "23919           Japan               True  \n",
       "23920  Korea Republic               True  \n",
       "\n",
       "[23921 rows x 6 columns]"
      ]
     },
     "execution_count": 20,
     "metadata": {},
     "output_type": "execute_result"
    }
   ],
   "source": [
    "resultado"
   ]
  },
  {
   "cell_type": "code",
   "execution_count": 21,
   "metadata": {},
   "outputs": [],
   "source": [
    "resultado_por_locacao = resultado.groupby([\"time_casa_em_casa\"])[\n",
    "    \"home_team_result\"\n",
    "].value_counts()\n"
   ]
  },
  {
   "cell_type": "code",
   "execution_count": 22,
   "metadata": {},
   "outputs": [
    {
     "data": {
      "image/png": "[encoded data removed]",
      "text/plain": [
       "<Figure size 640x480 with 2 Axes>"
      ]
     },
     "metadata": {
      "image/png": {
       "height": 480,
       "width": 640
      }
     },
     "output_type": "display_data"
    },
    {
     "data": {
      "text/plain": [
       "<Figure Size: (640 x 480)>"
      ]
     },
     "execution_count": 22,
     "metadata": {},
     "output_type": "execute_result"
    }
   ],
   "source": [
    "(ggplot(resultado, aes(\"home_team_result\"))\n",
    "+ geom_bar()\n",
    "+ facet_wrap(\"time_casa_em_casa\")\n",
    ")"
   ]
  },
  {
   "cell_type": "code",
   "execution_count": 23,
   "metadata": {},
   "outputs": [],
   "source": [
    "resultado_por_locacao_renomeado = resultado_por_locacao.to_frame().rename(\n",
    "    columns={\"home_team_result\": \"results_count\"}\n",
    ")\n",
    "\n",
    "contagem_resultados = resultado_por_locacao_renomeado.reset_index()"
   ]
  },
  {
   "cell_type": "code",
   "execution_count": 24,
   "metadata": {},
   "outputs": [
    {
     "ename": "KeyError",
     "evalue": "'results_count'",
     "output_type": "error",
     "traceback": [
      "\u001b[0;31m---------------------------------------------------------------------------\u001b[0m",
      "\u001b[0;31mKeyError\u001b[0m                                  Traceback (most recent call last)",
      "File \u001b[0;32m~/.local/share/virtualenvs/fifa_matches_analysis-LZrJL3qn/lib/python3.9/site-packages/pandas/core/indexes/base.py:3790\u001b[0m, in \u001b[0;36mIndex.get_loc\u001b[0;34m(self, key)\u001b[0m\n\u001b[1;32m   3789\u001b[0m \u001b[38;5;28;01mtry\u001b[39;00m:\n\u001b[0;32m-> 3790\u001b[0m     \u001b[38;5;28;01mreturn\u001b[39;00m \u001b[38;5;28;43mself\u001b[39;49m\u001b[38;5;241;43m.\u001b[39;49m\u001b[43m_engine\u001b[49m\u001b[38;5;241;43m.\u001b[39;49m\u001b[43mget_loc\u001b[49m\u001b[43m(\u001b[49m\u001b[43mcasted_key\u001b[49m\u001b[43m)\u001b[49m\n\u001b[1;32m   3791\u001b[0m \u001b[38;5;28;01mexcept\u001b[39;00m \u001b[38;5;167;01mKeyError\u001b[39;00m \u001b[38;5;28;01mas\u001b[39;00m err:\n",
      "File \u001b[0;32mindex.pyx:152\u001b[0m, in \u001b[0;36mpandas._libs.index.IndexEngine.get_loc\u001b[0;34m()\u001b[0m\n",
      "File \u001b[0;32mindex.pyx:181\u001b[0m, in \u001b[0;36mpandas._libs.index.IndexEngine.get_loc\u001b[0;34m()\u001b[0m\n",
      "File \u001b[0;32mpandas/_libs/hashtable_class_helper.pxi:7080\u001b[0m, in \u001b[0;36mpandas._libs.hashtable.PyObjectHashTable.get_item\u001b[0;34m()\u001b[0m\n",
      "File \u001b[0;32mpandas/_libs/hashtable_class_helper.pxi:7088\u001b[0m, in \u001b[0;36mpandas._libs.hashtable.PyObjectHashTable.get_item\u001b[0;34m()\u001b[0m\n",
      "\u001b[0;31mKeyError\u001b[0m: 'results_count'",
      "\nThe above exception was the direct cause of the following exception:\n",
      "\u001b[0;31mKeyError\u001b[0m                                  Traceback (most recent call last)",
      "Cell \u001b[0;32mIn[24], line 1\u001b[0m\n\u001b[0;32m----> 1\u001b[0m tabela_contigencia \u001b[38;5;241m=\u001b[39m \u001b[43mcontagem_resultados\u001b[49m\u001b[38;5;241;43m.\u001b[39;49m\u001b[43mpivot\u001b[49m\u001b[43m(\u001b[49m\n\u001b[1;32m      2\u001b[0m \u001b[43m    \u001b[49m\u001b[43mindex\u001b[49m\u001b[38;5;241;43m=\u001b[39;49m\u001b[38;5;124;43m\"\u001b[39;49m\u001b[38;5;124;43mhome_team_result\u001b[39;49m\u001b[38;5;124;43m\"\u001b[39;49m\u001b[43m,\u001b[49m\n\u001b[1;32m      3\u001b[0m \u001b[43m    \u001b[49m\u001b[43mcolumns\u001b[49m\u001b[38;5;241;43m=\u001b[39;49m\u001b[38;5;124;43m\"\u001b[39;49m\u001b[38;5;124;43mtime_casa_em_casa\u001b[39;49m\u001b[38;5;124;43m\"\u001b[39;49m\u001b[43m,\u001b[49m\n\u001b[1;32m      4\u001b[0m \u001b[43m    \u001b[49m\u001b[43mvalues\u001b[49m\u001b[38;5;241;43m=\u001b[39;49m\u001b[38;5;124;43m\"\u001b[39;49m\u001b[38;5;124;43mresults_count\u001b[39;49m\u001b[38;5;124;43m\"\u001b[39;49m\u001b[43m,\u001b[49m\n\u001b[1;32m      5\u001b[0m \u001b[43m)\u001b[49m\n",
      "File \u001b[0;32m~/.local/share/virtualenvs/fifa_matches_analysis-LZrJL3qn/lib/python3.9/site-packages/pandas/core/frame.py:9028\u001b[0m, in \u001b[0;36mDataFrame.pivot\u001b[0;34m(self, columns, index, values)\u001b[0m\n\u001b[1;32m   9021\u001b[0m \u001b[38;5;129m@Substitution\u001b[39m(\u001b[38;5;124m\"\u001b[39m\u001b[38;5;124m\"\u001b[39m)\n\u001b[1;32m   9022\u001b[0m \u001b[38;5;129m@Appender\u001b[39m(_shared_docs[\u001b[38;5;124m\"\u001b[39m\u001b[38;5;124mpivot\u001b[39m\u001b[38;5;124m\"\u001b[39m])\n\u001b[1;32m   9023\u001b[0m \u001b[38;5;28;01mdef\u001b[39;00m \u001b[38;5;21mpivot\u001b[39m(\n\u001b[1;32m   9024\u001b[0m     \u001b[38;5;28mself\u001b[39m, \u001b[38;5;241m*\u001b[39m, columns, index\u001b[38;5;241m=\u001b[39mlib\u001b[38;5;241m.\u001b[39mno_default, values\u001b[38;5;241m=\u001b[39mlib\u001b[38;5;241m.\u001b[39mno_default\n\u001b[1;32m   9025\u001b[0m ) \u001b[38;5;241m-\u001b[39m\u001b[38;5;241m>\u001b[39m DataFrame:\n\u001b[1;32m   9026\u001b[0m     \u001b[38;5;28;01mfrom\u001b[39;00m \u001b[38;5;21;01mpandas\u001b[39;00m\u001b[38;5;21;01m.\u001b[39;00m\u001b[38;5;21;01mcore\u001b[39;00m\u001b[38;5;21;01m.\u001b[39;00m\u001b[38;5;21;01mreshape\u001b[39;00m\u001b[38;5;21;01m.\u001b[39;00m\u001b[38;5;21;01mpivot\u001b[39;00m \u001b[38;5;28;01mimport\u001b[39;00m pivot\n\u001b[0;32m-> 9028\u001b[0m     \u001b[38;5;28;01mreturn\u001b[39;00m \u001b[43mpivot\u001b[49m\u001b[43m(\u001b[49m\u001b[38;5;28;43mself\u001b[39;49m\u001b[43m,\u001b[49m\u001b[43m \u001b[49m\u001b[43mindex\u001b[49m\u001b[38;5;241;43m=\u001b[39;49m\u001b[43mindex\u001b[49m\u001b[43m,\u001b[49m\u001b[43m \u001b[49m\u001b[43mcolumns\u001b[49m\u001b[38;5;241;43m=\u001b[39;49m\u001b[43mcolumns\u001b[49m\u001b[43m,\u001b[49m\u001b[43m \u001b[49m\u001b[43mvalues\u001b[49m\u001b[38;5;241;43m=\u001b[39;49m\u001b[43mvalues\u001b[49m\u001b[43m)\u001b[49m\n",
      "File \u001b[0;32m~/.local/share/virtualenvs/fifa_matches_analysis-LZrJL3qn/lib/python3.9/site-packages/pandas/core/reshape/pivot.py:549\u001b[0m, in \u001b[0;36mpivot\u001b[0;34m(data, columns, index, values)\u001b[0m\n\u001b[1;32m    545\u001b[0m         indexed \u001b[38;5;241m=\u001b[39m data\u001b[38;5;241m.\u001b[39m_constructor(\n\u001b[1;32m    546\u001b[0m             data[values]\u001b[38;5;241m.\u001b[39m_values, index\u001b[38;5;241m=\u001b[39mmultiindex, columns\u001b[38;5;241m=\u001b[39mvalues\n\u001b[1;32m    547\u001b[0m         )\n\u001b[1;32m    548\u001b[0m     \u001b[38;5;28;01melse\u001b[39;00m:\n\u001b[0;32m--> 549\u001b[0m         indexed \u001b[38;5;241m=\u001b[39m data\u001b[38;5;241m.\u001b[39m_constructor_sliced(\u001b[43mdata\u001b[49m\u001b[43m[\u001b[49m\u001b[43mvalues\u001b[49m\u001b[43m]\u001b[49m\u001b[38;5;241m.\u001b[39m_values, index\u001b[38;5;241m=\u001b[39mmultiindex)\n\u001b[1;32m    550\u001b[0m \u001b[38;5;66;03m# error: Argument 1 to \"unstack\" of \"DataFrame\" has incompatible type \"Union\u001b[39;00m\n\u001b[1;32m    551\u001b[0m \u001b[38;5;66;03m# [List[Any], ExtensionArray, ndarray[Any, Any], Index, Series]\"; expected\u001b[39;00m\n\u001b[1;32m    552\u001b[0m \u001b[38;5;66;03m# \"Hashable\"\u001b[39;00m\n\u001b[1;32m    553\u001b[0m result \u001b[38;5;241m=\u001b[39m indexed\u001b[38;5;241m.\u001b[39munstack(columns_listlike)  \u001b[38;5;66;03m# type: ignore[arg-type]\u001b[39;00m\n",
      "File \u001b[0;32m~/.local/share/virtualenvs/fifa_matches_analysis-LZrJL3qn/lib/python3.9/site-packages/pandas/core/frame.py:3896\u001b[0m, in \u001b[0;36mDataFrame.__getitem__\u001b[0;34m(self, key)\u001b[0m\n\u001b[1;32m   3894\u001b[0m \u001b[38;5;28;01mif\u001b[39;00m \u001b[38;5;28mself\u001b[39m\u001b[38;5;241m.\u001b[39mcolumns\u001b[38;5;241m.\u001b[39mnlevels \u001b[38;5;241m>\u001b[39m \u001b[38;5;241m1\u001b[39m:\n\u001b[1;32m   3895\u001b[0m     \u001b[38;5;28;01mreturn\u001b[39;00m \u001b[38;5;28mself\u001b[39m\u001b[38;5;241m.\u001b[39m_getitem_multilevel(key)\n\u001b[0;32m-> 3896\u001b[0m indexer \u001b[38;5;241m=\u001b[39m \u001b[38;5;28;43mself\u001b[39;49m\u001b[38;5;241;43m.\u001b[39;49m\u001b[43mcolumns\u001b[49m\u001b[38;5;241;43m.\u001b[39;49m\u001b[43mget_loc\u001b[49m\u001b[43m(\u001b[49m\u001b[43mkey\u001b[49m\u001b[43m)\u001b[49m\n\u001b[1;32m   3897\u001b[0m \u001b[38;5;28;01mif\u001b[39;00m is_integer(indexer):\n\u001b[1;32m   3898\u001b[0m     indexer \u001b[38;5;241m=\u001b[39m [indexer]\n",
      "File \u001b[0;32m~/.local/share/virtualenvs/fifa_matches_analysis-LZrJL3qn/lib/python3.9/site-packages/pandas/core/indexes/base.py:3797\u001b[0m, in \u001b[0;36mIndex.get_loc\u001b[0;34m(self, key)\u001b[0m\n\u001b[1;32m   3792\u001b[0m     \u001b[38;5;28;01mif\u001b[39;00m \u001b[38;5;28misinstance\u001b[39m(casted_key, \u001b[38;5;28mslice\u001b[39m) \u001b[38;5;129;01mor\u001b[39;00m (\n\u001b[1;32m   3793\u001b[0m         \u001b[38;5;28misinstance\u001b[39m(casted_key, abc\u001b[38;5;241m.\u001b[39mIterable)\n\u001b[1;32m   3794\u001b[0m         \u001b[38;5;129;01mand\u001b[39;00m \u001b[38;5;28many\u001b[39m(\u001b[38;5;28misinstance\u001b[39m(x, \u001b[38;5;28mslice\u001b[39m) \u001b[38;5;28;01mfor\u001b[39;00m x \u001b[38;5;129;01min\u001b[39;00m casted_key)\n\u001b[1;32m   3795\u001b[0m     ):\n\u001b[1;32m   3796\u001b[0m         \u001b[38;5;28;01mraise\u001b[39;00m InvalidIndexError(key)\n\u001b[0;32m-> 3797\u001b[0m     \u001b[38;5;28;01mraise\u001b[39;00m \u001b[38;5;167;01mKeyError\u001b[39;00m(key) \u001b[38;5;28;01mfrom\u001b[39;00m \u001b[38;5;21;01merr\u001b[39;00m\n\u001b[1;32m   3798\u001b[0m \u001b[38;5;28;01mexcept\u001b[39;00m \u001b[38;5;167;01mTypeError\u001b[39;00m:\n\u001b[1;32m   3799\u001b[0m     \u001b[38;5;66;03m# If we have a listlike key, _check_indexing_error will raise\u001b[39;00m\n\u001b[1;32m   3800\u001b[0m     \u001b[38;5;66;03m#  InvalidIndexError. Otherwise we fall through and re-raise\u001b[39;00m\n\u001b[1;32m   3801\u001b[0m     \u001b[38;5;66;03m#  the TypeError.\u001b[39;00m\n\u001b[1;32m   3802\u001b[0m     \u001b[38;5;28mself\u001b[39m\u001b[38;5;241m.\u001b[39m_check_indexing_error(key)\n",
      "\u001b[0;31mKeyError\u001b[0m: 'results_count'"
     ]
    }
   ],
   "source": [
    "tabela_contigencia = contagem_resultados.pivot(\n",
    "    index=\"home_team_result\",\n",
    "    columns=\"time_casa_em_casa\",\n",
    "    values=\"results_count\",\n",
    ")"
   ]
  },
  {
   "cell_type": "code",
   "execution_count": null,
   "metadata": {},
   "outputs": [],
   "source": [
    "_, p_valor, *_ = chi2_contingency(tabela_contigencia, correction=True)\n",
    "\n",
    "nivel_signficancia = 0.05\n",
    "\n",
    "if p_valor < nivel_signficancia:\n",
    "    print(f\"p valor de {p_valor:.3f}, amostras são diferentes\")\n",
    "else:\n",
    "    print(\n",
    "        f\"p valor de {p_valor}, amostras não podem ser consideradas diferentes\"\n",
    "    )\n"
   ]
  },
  {
   "cell_type": "markdown",
   "metadata": {},
   "source": [
    "# As equipes com jogadores mais ofensivos marcam mais gols? E times com goleiros mais fortes recebem menos gols?"
   ]
  },
  {
   "cell_type": "code",
   "execution_count": null,
   "metadata": {},
   "outputs": [],
   "source": [
    "dados_a_partir_pontuacao = data.iloc[elemento_mais_antigo_contem_pontuacao:]\n",
    "\n",
    "saldo_gols = dados_a_partir_pontuacao.copy()\n",
    "\n",
    "saldo_gols[\"saldo_gols\"] = saldo_gols[\"home_team_score\"] - saldo_gols[\"away_team_score\"]"
   ]
  },
  {
   "cell_type": "code",
   "execution_count": null,
   "metadata": {},
   "outputs": [],
   "source": [
    "saldo_gols_time_casa = saldo_gols[\n",
    "    [\n",
    "        \"date\",\n",
    "        \"home_team\",\n",
    "        \"home_team_score\",\n",
    "        \"away_team_score\",\n",
    "        \"home_team_goalkeeper_score\",\n",
    "        \"home_team_mean_offense_score\",\n",
    "        \"saldo_gols\"\n",
    "    ]\n",
    "]\n",
    "\n",
    "saldo_gols_time_visitante = saldo_gols[\n",
    "    [\n",
    "        \"date\",\n",
    "        \"away_team\",\n",
    "        \"home_team_score\",\n",
    "        \"away_team_score\",\n",
    "        \"away_team_goalkeeper_score\",\n",
    "        \"away_team_mean_offense_score\",\n",
    "        \"saldo_gols\"\n",
    "    ]\n",
    "]\n",
    "\n",
    "saldo_gols_time_visitante[\"saldo_gols\"] = -1 * saldo_gols_time_visitante[\"saldo_gols\"]"
   ]
  },
  {
   "cell_type": "code",
   "execution_count": null,
   "metadata": {},
   "outputs": [],
   "source": [
    "saldo_gols_time_casa_renomeado = saldo_gols_time_casa.rename(\n",
    "    columns={\n",
    "        \"home_team\": \"time\",\n",
    "        \"home_team_score\": \"gols_feitos\",\n",
    "        \"away_team_score\": \"gols_levados\",\n",
    "        \"home_team_goalkeeper_score\": \"pontuacao_goleiro\",\n",
    "        \"home_team_mean_offense_score\": \"pontuacao_ataque\",\n",
    "    }\n",
    ")\n",
    "\n",
    "saldo_gols_time_visitante_renomeado = saldo_gols_time_visitante.rename(\n",
    "    columns={\n",
    "        \"away_team\": \"time\",\n",
    "        \"home_team_score\": \"gols_levados\",\n",
    "        \"away_team_score\": \"gols_feitos\",\n",
    "        \"away_team_goalkeeper_score\": \"pontuacao_goleiro\",\n",
    "        \"away_team_mean_offense_score\": \"pontuacao_ataque\",\n",
    "    }\n",
    ")\n"
   ]
  },
  {
   "cell_type": "code",
   "execution_count": null,
   "metadata": {},
   "outputs": [],
   "source": [
    "saldo_total = pd.concat(\n",
    "    [saldo_gols_time_casa_renomeado, saldo_gols_time_visitante_renomeado]\n",
    ")\n",
    "\n",
    "saldo_total_todas_pontuacoes = saldo_total.dropna()\n"
   ]
  },
  {
   "cell_type": "code",
   "execution_count": null,
   "metadata": {},
   "outputs": [],
   "source": [
    "media_indicadores = saldo_total_todas_pontuacoes.groupby(\"time\")[\n",
    "    [\"gols_feitos\", \"gols_levados\", \"pontuacao_goleiro\", \"pontuacao_ataque\", \"saldo_gols\"]\n",
    "].mean()\n"
   ]
  },
  {
   "cell_type": "code",
   "execution_count": null,
   "metadata": {},
   "outputs": [],
   "source": [
    "p = ggplot(aes(x='pontuacao_ataque', y='gols_feitos'), media_indicadores)\n",
    "p + geom_point() + coord_cartesian(xlim=(50,90), ylim=(-4, 4))"
   ]
  },
  {
   "cell_type": "code",
   "execution_count": null,
   "metadata": {},
   "outputs": [],
   "source": [
    "p = ggplot(aes(x='pontuacao_goleiro', y='gols_levados'), media_indicadores)\n",
    "p + geom_point() + coord_cartesian(xlim=(50,90), ylim=(-4, 4))"
   ]
  },
  {
   "cell_type": "code",
   "execution_count": null,
   "metadata": {},
   "outputs": [],
   "source": [
    "p = ggplot(aes(x='pontuacao_ataque', y='saldo_gols'), media_indicadores)\n",
    "p + geom_point() + coord_cartesian(xlim=(50,90), ylim=(-4, 4))"
   ]
  },
  {
   "cell_type": "code",
   "execution_count": null,
   "metadata": {},
   "outputs": [],
   "source": [
    "p = ggplot(aes(x='pontuacao_goleiro', y='saldo_gols'), media_indicadores)\n",
    "p + geom_point() + coord_cartesian(xlim=(50,90), ylim=(-4, 4))"
   ]
  },
  {
   "cell_type": "code",
   "execution_count": null,
   "metadata": {},
   "outputs": [],
   "source": [
    "times_por_gols_feitos = media_indicadores.sort_values(\n",
    "    by=\"gols_feitos\", ascending=False\n",
    ")\n",
    "times_por_gols_levados = media_indicadores.sort_values(\n",
    "    by=\"gols_levados\", ascending=False\n",
    ")"
   ]
  },
  {
   "cell_type": "code",
   "execution_count": null,
   "metadata": {},
   "outputs": [],
   "source": [
    "times_por_gols_feitos"
   ]
  },
  {
   "cell_type": "code",
   "execution_count": null,
   "metadata": {},
   "outputs": [],
   "source": [
    "times_por_gols_levados"
   ]
  },
  {
   "cell_type": "markdown",
   "metadata": {},
   "source": [
    "### Analisando barbados"
   ]
  },
  {
   "cell_type": "code",
   "execution_count": null,
   "metadata": {},
   "outputs": [],
   "source": [
    "partidas_barbados = (data[\"home_team\"] == \"Barbados\") | (data[\"away_team\"] == \"Barbados\")\n",
    "\n",
    "informacoes_barbados = data.loc[partidas_barbados]"
   ]
  },
  {
   "cell_type": "code",
   "execution_count": null,
   "metadata": {},
   "outputs": [],
   "source": [
    "p = ggplot(informacoes_barbados, aes('country', fill='country'))\n",
    "p  + geom_bar() + coord_flip()"
   ]
  },
  {
   "cell_type": "markdown",
   "metadata": {},
   "source": [
    "## Ataque dos times que mais fizeram gols é diferente do que menos fizeram? E pontuação do goleiro para o que mais levaram gols?"
   ]
  },
  {
   "cell_type": "code",
   "execution_count": null,
   "metadata": {},
   "outputs": [],
   "source": [
    "n_mais_relavantes = 20\n",
    "\n",
    "\n",
    "mais_fizeram_gols = times_por_gols_feitos.iloc[:n_mais_relavantes]\n",
    "menos_fizeram_gols = times_por_gols_feitos.iloc[-n_mais_relavantes:]\n",
    "\n",
    "mais_levaram_gols = times_por_gols_levados.iloc[:n_mais_relavantes]\n",
    "menos_levaram_gols = times_por_gols_levados.iloc[-n_mais_relavantes:]\n",
    "\n",
    "pontuacao_ataque_mais_fizeram_gols = mais_fizeram_gols[\"pontuacao_ataque\"].values\n",
    "pontuacao_ataque_menos_fizeram_gols = menos_fizeram_gols[\"pontuacao_ataque\"].values\n",
    "\n",
    "pontuacao_goleiro_mais_levaram_gols = mais_fizeram_gols[\"pontuacao_goleiro\"].values\n",
    "pontuacao_goleiro_menos_levaram_gols = menos_levaram_gols[\"pontuacao_goleiro\"].values"
   ]
  },
  {
   "cell_type": "code",
   "execution_count": null,
   "metadata": {},
   "outputs": [],
   "source": [
    "_, p_valor = ztest(pontuacao_ataque_mais_fizeram_gols, pontuacao_ataque_menos_fizeram_gols, value=0)\n",
    "\n",
    "nivel_significancia = 0.05\n",
    "\n",
    "if p_valor < nivel_signficancia:\n",
    "    print(f\"p valor de {p_valor:.3f}, ataques são diferentes\")\n",
    "else:\n",
    "    print(\n",
    "        f\"p valor de {p_valor}, ataques não podem ser consideradas diferentes\"\n",
    "    )\n"
   ]
  },
  {
   "cell_type": "code",
   "execution_count": null,
   "metadata": {},
   "outputs": [],
   "source": [
    "_, p_valor = ztest(\n",
    "    pontuacao_goleiro_mais_levaram_gols, pontuacao_goleiro_menos_levaram_gols, value=0\n",
    ")\n",
    "\n",
    "if p_valor < nivel_signficancia:\n",
    "    print(f\"p valor de {p_valor:.3f}, goleiros são diferentes\")\n",
    "else:\n",
    "    print(\n",
    "        f\"p valor de {p_valor}, goleiros não podem ser consideradas diferentes\"\n",
    "    )"
   ]
  },
  {
   "cell_type": "markdown",
   "metadata": {},
   "source": [
    "# Qual time tem a maior sequência de vitórias?"
   ]
  },
  {
   "cell_type": "code",
   "execution_count": null,
   "metadata": {},
   "outputs": [],
   "source": [
    "partidas_casa = data[[\"date\", \"home_team\", \"tournament\", \"city\", \"country\", \"home_team_result\"]]\n",
    "\n",
    "partidas_visitante = data[[\"date\", \"away_team\", \"tournament\", \"city\", \"country\", \"home_team_result\"]]"
   ]
  },
  {
   "cell_type": "code",
   "execution_count": null,
   "metadata": {},
   "outputs": [],
   "source": [
    "partidas_casa_sem_empate = partidas_casa.copy()\n",
    "partidas_casa_sem_empate.loc[partidas_casa_sem_empate[\"home_team_result\"] == \"Draw\", \"home_team_result\"] = np.nan\n",
    "\n",
    "partidas_casa_sem_empate = partidas_casa_sem_empate.dropna()\n",
    "\n",
    "\n",
    "partidas_visitante_sem_empate = partidas_visitante.copy()\n",
    "partidas_visitante_sem_empate.loc[partidas_visitante_sem_empate[\"home_team_result\"] == \"Draw\", \"home_team_result\"] = np.nan\n",
    "\n",
    "partidas_visitante_sem_empate = partidas_visitante_sem_empate.dropna()"
   ]
  },
  {
   "cell_type": "code",
   "execution_count": null,
   "metadata": {},
   "outputs": [],
   "source": [
    "partidas_casa_sem_empate[\"ganhou\"] = partidas_casa_sem_empate[\"home_team_result\"] == \"Win\"\n",
    "\n",
    "partidas_visitante_sem_empate[\"ganhou\"] = partidas_visitante_sem_empate[\"home_team_result\"] == \"Lose\""
   ]
  },
  {
   "cell_type": "code",
   "execution_count": null,
   "metadata": {},
   "outputs": [],
   "source": [
    "partidas_casa_sem_empate = partidas_casa_sem_empate.rename(columns={\"home_team\": \"team\"})\n",
    "partidas_casa_sem_empate = partidas_casa_sem_empate.drop(columns=[\"home_team_result\"])\n",
    "\n",
    "partidas_visitante_sem_empate = partidas_visitante_sem_empate.rename(columns={\"away_team\": \"team\"})\n",
    "partidas_visitante_sem_empate = partidas_visitante_sem_empate.drop(columns=[\"home_team_result\"])"
   ]
  },
  {
   "cell_type": "code",
   "execution_count": null,
   "metadata": {},
   "outputs": [],
   "source": [
    "resultado_partidas = pd.concat([partidas_casa_sem_empate, partidas_visitante_sem_empate], axis=0)\n",
    "\n",
    "resultado_partidas_ordenado = resultado_partidas.sort_values(by=[\"team\", \"date\"]).reset_index(drop=True)"
   ]
  },
  {
   "cell_type": "code",
   "execution_count": null,
   "metadata": {},
   "outputs": [],
   "source": [
    "times = resultado_partidas_ordenado[\"team\"].unique()\n",
    "\n",
    "maior_sequencia_vitorias = 0\n",
    "time_maior_sequencia_vitorias = None\n",
    "\n",
    "for time in times:\n",
    "\n",
    "    resultados_time = resultado_partidas_ordenado[resultado_partidas_ordenado[\"team\"] == time]\n",
    "\n",
    "    vitorias_time = resultados_time[\"ganhou\"].values\n",
    "\n",
    "    sequencia_vitorias = [list(group) for item, group in groupby(vitorias_time) if item == True]\n",
    "\n",
    "    maior_sequencia_vitorias_time = len(max(sequencia_vitorias, key=len))\n",
    "\n",
    "    if maior_sequencia_vitorias_time > maior_sequencia_vitorias:\n",
    "        maior_sequencia_vitorias = maior_sequencia_vitorias_time\n",
    "        time_maior_sequencia_vitorias = time\n"
   ]
  },
  {
   "cell_type": "code",
   "execution_count": null,
   "metadata": {},
   "outputs": [],
   "source": [
    "print(f\"time com maior sequencia de vitorias foi {time_maior_sequencia_vitorias}, com {maior_sequencia_vitorias} vitorias\")"
   ]
  },
  {
   "cell_type": "markdown",
   "metadata": {},
   "source": [
    "# Classificador para predizer derrota"
   ]
  },
  {
   "cell_type": "markdown",
   "metadata": {},
   "source": [
    "## Desconsiderando empates"
   ]
  },
  {
   "cell_type": "code",
   "execution_count": null,
   "metadata": {},
   "outputs": [],
   "source": [
    "dados_comeco_avaliacam_scores = data.iloc[elemento_mais_antigo_contem_pontuacao:]\n",
    "\n",
    "dados_sem_empate = dados_comeco_avaliacam_scores[dados_comeco_avaliacam_scores[\"home_team_result\"] != \"Draw\"]\n",
    "\n",
    "\n",
    "partidas_time_da_casa_joga_em_casa = dados_sem_empate[\"country\"] == dados_sem_empate[\"home_team\"]\n",
    "partidas_time_visitante_joga_em_casa = dados_sem_empate[\"country\"] == dados_sem_empate[\"away_team\"]\n",
    "\n",
    "partidas_neutras = dados_sem_empate[\"neutral_location\"]"
   ]
  },
  {
   "cell_type": "code",
   "execution_count": null,
   "metadata": {},
   "outputs": [],
   "source": [
    "sem_empate_status_de_onde_esta_jogando = dados_sem_empate.copy()\n",
    "\n",
    "sem_empate_status_de_onde_esta_jogando.loc[partidas_time_da_casa_joga_em_casa, \"local_partida\"] = \"Casa\"\n",
    "sem_empate_status_de_onde_esta_jogando.loc[partidas_time_visitante_joga_em_casa, \"local_partida\"] = \"Visitante\"\n",
    "sem_empate_status_de_onde_esta_jogando.loc[partidas_neutras, \"local_partida\"] = \"Neutro\""
   ]
  },
  {
   "cell_type": "code",
   "execution_count": null,
   "metadata": {},
   "outputs": [],
   "source": [
    "# Não tem partidas no visitante?\n",
    "\n",
    "sem_empate_status_de_onde_esta_jogando[\"local_partida\"].value_counts()"
   ]
  },
  {
   "cell_type": "code",
   "execution_count": null,
   "metadata": {},
   "outputs": [],
   "source": [
    "dev_data = sem_empate_status_de_onde_esta_jogando.query(\"date < '01-01-2022'\")\n",
    "test_data = sem_empate_status_de_onde_esta_jogando.query(\"date >= '01-01-2022'\")"
   ]
  },
  {
   "cell_type": "code",
   "execution_count": null,
   "metadata": {},
   "outputs": [],
   "source": [
    "assert dev_data.date.max() <= pd.to_datetime(\"12-31-2021\")\n",
    "assert test_data.date.min() >= pd.to_datetime(\"01-01-2022\")"
   ]
  },
  {
   "cell_type": "code",
   "execution_count": null,
   "metadata": {},
   "outputs": [],
   "source": [
    "dev_data.info()"
   ]
  },
  {
   "cell_type": "code",
   "execution_count": null,
   "metadata": {},
   "outputs": [],
   "source": [
    "test_data.info()"
   ]
  },
  {
   "cell_type": "code",
   "execution_count": null,
   "metadata": {},
   "outputs": [],
   "source": [
    "nomes_features = [\n",
    "    \"local_partida\",\n",
    "    \"home_team_goalkeeper_score\",\n",
    "    \"home_team_mean_defense_score\",\n",
    "    \"home_team_mean_offense_score\",\n",
    "    \"home_team_mean_midfield_score\",\n",
    "    \"away_team_goalkeeper_score\",\n",
    "    \"away_team_mean_defense_score\",\n",
    "    \"away_team_mean_offense_score\",\n",
    "    \"away_team_mean_midfield_score\",\n",
    "]\n",
    "\n",
    "nome_alvo = \"home_team_result\""
   ]
  },
  {
   "cell_type": "markdown",
   "metadata": {},
   "source": [
    "## Treinar modelo de regressão logística"
   ]
  },
  {
   "cell_type": "markdown",
   "metadata": {},
   "source": [
    "### Separar conjunto de desenvolvimento em treino e teste"
   ]
  },
  {
   "cell_type": "code",
   "execution_count": null,
   "metadata": {},
   "outputs": [],
   "source": [
    "features = dev_data[nomes_features]\n",
    "features_sem_faltantes = features.fillna(0)\n",
    "\n",
    "alvo_encoded = dev_data[nome_alvo].map(lambda x: 0 if x == \"Win\" else 1)\n",
    "\n",
    "encoder = TargetEncoder()\n",
    "\n",
    "features_train, features_val, y_train, y_val = train_test_split(features_sem_faltantes, alvo_encoded, test_size=0.2)\n",
    "\n",
    "features_train = encoder.fit_transform(features_train, y_train)\n",
    "\n",
    "features_val = encoder.transform(features_val)"
   ]
  },
  {
   "cell_type": "code",
   "execution_count": null,
   "metadata": {},
   "outputs": [],
   "source": [
    "X_train = features_train.values\n",
    "\n",
    "X_val = features_val.values"
   ]
  },
  {
   "cell_type": "code",
   "execution_count": null,
   "metadata": {},
   "outputs": [],
   "source": [
    "logreg = LogisticRegression()\n",
    "\n",
    "cross_val_score(logreg, X_train, y_train, cv=3, n_jobs=-1)"
   ]
  },
  {
   "cell_type": "code",
   "execution_count": null,
   "metadata": {},
   "outputs": [],
   "source": [
    "logreg.fit(X_train, y_train)"
   ]
  },
  {
   "cell_type": "code",
   "execution_count": null,
   "metadata": {},
   "outputs": [],
   "source": [
    "y_pred_train = logreg.predict(X_train)\n",
    "\n",
    "cm_train = confusion_matrix(y_train, y_pred_train)\n",
    "\n",
    "disp = ConfusionMatrixDisplay(confusion_matrix=cm_train)\n",
    "\n",
    "disp.plot()\n",
    "plt.show()"
   ]
  },
  {
   "cell_type": "markdown",
   "metadata": {},
   "source": [
    "### Desempenho para conjunto de validação"
   ]
  },
  {
   "cell_type": "code",
   "execution_count": null,
   "metadata": {},
   "outputs": [],
   "source": [
    "y_pred_val = logreg.predict(X_val)\n",
    "\n",
    "cm_val = confusion_matrix(y_val, y_pred_val)\n",
    "\n",
    "disp = ConfusionMatrixDisplay(confusion_matrix=cm_val)\n",
    "\n",
    "disp.plot()\n",
    "plt.show()"
   ]
  },
  {
   "cell_type": "code",
   "execution_count": null,
   "metadata": {},
   "outputs": [],
   "source": [
    "print(classification_report(y_val, y_pred_val))"
   ]
  },
  {
   "cell_type": "markdown",
   "metadata": {},
   "source": [
    "### Curva de precisão e sensibilidade"
   ]
  },
  {
   "cell_type": "code",
   "execution_count": null,
   "metadata": {},
   "outputs": [],
   "source": [
    "display = PrecisionRecallDisplay.from_estimator(logreg, X_val, y_val, name=\"Regressão logística\")\n",
    "\n",
    "display.ax_.set_title(\"Curva PR para regressão logística\")\n",
    "\n",
    "plt.show()"
   ]
  },
  {
   "cell_type": "code",
   "execution_count": null,
   "metadata": {},
   "outputs": [],
   "source": [
    "def gerar_curva_pr_com_limites(precisions, recalls,thresholds):\n",
    "    plt.plot(thresholds, precisions[:-1], \"b--\", label=\"Precisão\")\n",
    "    plt.plot(thresholds, recalls[:-1], \"g-\", label=\"Recall\")\n",
    "    plt.xlabel(\"limites\")\n",
    "    plt.legend()"
   ]
  },
  {
   "cell_type": "code",
   "execution_count": null,
   "metadata": {},
   "outputs": [],
   "source": [
    "y_val_pred_proba = logreg.predict_proba(X_val)[:, 1]\n",
    "\n",
    "precisions, recalls, thresholds = precision_recall_curve(y_val, y_val_pred_proba)\n",
    "\n",
    "gerar_curva_pr_com_limites(precisions, recalls,thresholds)\n",
    "plt.show()"
   ]
  },
  {
   "cell_type": "markdown",
   "metadata": {},
   "source": [
    "## Treinar modelo de Random Forest"
   ]
  },
  {
   "cell_type": "code",
   "execution_count": null,
   "metadata": {},
   "outputs": [],
   "source": [
    "random_forest = RandomForestClassifier()\n",
    "\n",
    "random_forest.fit(X_train, y_train)"
   ]
  },
  {
   "cell_type": "code",
   "execution_count": null,
   "metadata": {},
   "outputs": [],
   "source": [
    "y_pred_train = random_forest.predict(X_train)\n",
    "\n",
    "cm_train = confusion_matrix(y_train, y_pred_train)\n",
    "\n",
    "disp = ConfusionMatrixDisplay(confusion_matrix=cm_train)\n",
    "\n",
    "disp.plot()\n",
    "plt.show()"
   ]
  },
  {
   "cell_type": "markdown",
   "metadata": {},
   "source": [
    "### Aplicar no conjunto de validação"
   ]
  },
  {
   "cell_type": "code",
   "execution_count": null,
   "metadata": {},
   "outputs": [],
   "source": [
    "y_pred_val = random_forest.predict(X_val)\n",
    "\n",
    "cm_val = confusion_matrix(y_val, y_pred_val)\n",
    "\n",
    "disp = ConfusionMatrixDisplay(confusion_matrix=cm_val)\n",
    "\n",
    "disp.plot()\n",
    "plt.show()"
   ]
  },
  {
   "cell_type": "code",
   "execution_count": null,
   "metadata": {},
   "outputs": [],
   "source": [
    "print(classification_report(y_val, y_pred_val))"
   ]
  },
  {
   "cell_type": "code",
   "execution_count": null,
   "metadata": {},
   "outputs": [],
   "source": [
    "display = PrecisionRecallDisplay.from_estimator(random_forest, X_val, y_val, name=\"Random forest\")\n",
    "\n",
    "display.ax_.set_title(\"Curva PR para random_forest\")\n",
    "\n",
    "plt.show()"
   ]
  },
  {
   "cell_type": "code",
   "execution_count": null,
   "metadata": {},
   "outputs": [],
   "source": [
    "y_val_pred_proba = random_forest.predict_proba(X_val)[:, 1]\n",
    "\n",
    "precisions, recalls, thresholds = precision_recall_curve(y_val, y_val_pred_proba)\n",
    "\n",
    "gerar_curva_pr_com_limites(precisions, recalls,thresholds)\n",
    "plt.show()"
   ]
  },
  {
   "cell_type": "markdown",
   "metadata": {},
   "source": [
    "## Aplicar no conjunto de teste"
   ]
  },
  {
   "cell_type": "code",
   "execution_count": null,
   "metadata": {},
   "outputs": [],
   "source": [
    "features_test = test_data[nomes_features]\n",
    "features_test_sem_faltantes = features_test.fillna(0)\n",
    "\n",
    "alvo_encoded_test = test_data[nome_alvo].map(lambda x: 0 if x == \"Win\" else 1)"
   ]
  },
  {
   "cell_type": "code",
   "execution_count": null,
   "metadata": {},
   "outputs": [],
   "source": [
    "features_test_encoded = encoder.transform(features_test_sem_faltantes)"
   ]
  },
  {
   "cell_type": "code",
   "execution_count": null,
   "metadata": {},
   "outputs": [],
   "source": [
    "X_test = features_test_encoded.values\n",
    "\n",
    "y_test = alvo_encoded_test.values"
   ]
  },
  {
   "cell_type": "code",
   "execution_count": null,
   "metadata": {},
   "outputs": [],
   "source": [
    "y_pred_test = random_forest.predict(X_test)\n",
    "\n",
    "cm_dev = confusion_matrix(y_test, y_pred_test)\n",
    "\n",
    "disp = ConfusionMatrixDisplay(confusion_matrix=cm_dev)\n",
    "\n",
    "disp.plot()\n",
    "\n",
    "plt.show()"
   ]
  },
  {
   "cell_type": "code",
   "execution_count": null,
   "metadata": {},
   "outputs": [],
   "source": [
    "print(classification_report(y_test, y_pred_test))"
   ]
  }
 ],
 "metadata": {
  "kernelspec": {
   "display_name": "Python 3 (ipykernel)",
   "language": "python",
   "name": "python3"
  },
  "language_info": {
   "codemirror_mode": {
    "name": "ipython",
    "version": 3
   },
   "file_extension": ".py",
   "mimetype": "text/x-python",
   "name": "python",
   "nbconvert_exporter": "python",
   "pygments_lexer": "ipython3",
   "version": "3.9.12"
  },
  "vscode": {
   "interpreter": {
    "hash": "8125da653c4e88c083c40c0f0a8322164bebdabccc9e0800287a5ac4cfd4fc50"
   }
  }
 },
 "nbformat": 4,
 "nbformat_minor": 4
}
